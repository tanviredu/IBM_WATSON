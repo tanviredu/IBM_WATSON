{
 "cells": [
  {
   "cell_type": "code",
   "execution_count": 1,
   "metadata": {},
   "outputs": [],
   "source": [
    "##import the module\n",
    "import numpy as np\n",
    "import matplotlib.pyplot as plt\n",
    "import systemml\n",
    "from systemml.mllearn import LinearRegression"
   ]
  },
  {
   "cell_type": "code",
   "execution_count": 2,
   "metadata": {},
   "outputs": [],
   "source": [
    "from sklearn import datasets"
   ]
  },
  {
   "cell_type": "code",
   "execution_count": 3,
   "metadata": {},
   "outputs": [],
   "source": [
    "data = datasets.load_diabetes()"
   ]
  },
  {
   "cell_type": "code",
   "execution_count": 4,
   "metadata": {},
   "outputs": [],
   "source": [
    "X = data.data"
   ]
  },
  {
   "cell_type": "code",
   "execution_count": 5,
   "metadata": {},
   "outputs": [],
   "source": [
    "y = data.target"
   ]
  },
  {
   "cell_type": "code",
   "execution_count": 6,
   "metadata": {},
   "outputs": [],
   "source": [
    "from sklearn.model_selection import train_test_split"
   ]
  },
  {
   "cell_type": "code",
   "execution_count": 7,
   "metadata": {},
   "outputs": [],
   "source": [
    "x_train,x_test,y_train,y_test = train_test_split(X,y)"
   ]
  },
  {
   "cell_type": "code",
   "execution_count": 8,
   "metadata": {},
   "outputs": [],
   "source": [
    "regr = LinearRegression(spark)"
   ]
  },
  {
   "cell_type": "code",
   "execution_count": 9,
   "metadata": {},
   "outputs": [
    {
     "name": "stdout",
     "output_type": "stream",
     "text": [
      "\n",
      "Welcome to Apache SystemML!\n",
      "Version 1.3.0-SNAPSHOT\n",
      "ANTLR Tool version 4.5.3 used for code generation does not match the current runtime version 4.7ANTLR Runtime version 4.5.3 used for parser compilation does not match the current runtime version 4.7ANTLR Tool version 4.5.3 used for code generation does not match the current runtime version 4.7ANTLR Runtime version 4.5.3 used for parser compilation does not match the current runtime version 4.7\n",
      "BEGIN LINEAR REGRESSION SCRIPT\n",
      "Reading X and Y...\n",
      "Running the CG algorithm...\n",
      "||r|| initial value = 51157.33547427172,  target value = 0.05115733547427172\n",
      "Iteration 1:  ||r|| / ||r init|| = 0.027957542574779146\n",
      "Iteration 2:  ||r|| / ||r init|| = 0.008919879706687187\n",
      "Iteration 3:  ||r|| / ||r init|| = 0.0020734485965368003\n",
      "Iteration 4:  ||r|| / ||r init|| = 6.835880104599828E-4\n",
      "Iteration 5:  ||r|| / ||r init|| = 2.2785023138443102E-4\n",
      "Iteration 6:  ||r|| / ||r init|| = 7.740363344525564E-4\n",
      "Iteration 7:  ||r|| / ||r init|| = 1.567156624992018E-4\n",
      "Iteration 8:  ||r|| / ||r init|| = 1.9255028543655858E-4\n",
      "Iteration 9:  ||r|| / ||r init|| = 1.0784747383832612E-4\n",
      "Iteration 10:  ||r|| / ||r init|| = 1.3870390556654146E-4\n",
      "Iteration 11:  ||r|| / ||r init|| = 1.2566549244475312E-4\n",
      "Iteration 12:  ||r|| / ||r init|| = 0.001535634519931335\n",
      "Iteration 13:  ||r|| / ||r init|| = 1.5411985285596822E-9\n",
      "The CG algorithm is done.\n",
      "Computing the statistics...\n",
      "AVG_TOT_Y,154.4712990936556\n",
      "STDEV_TOT_Y,77.09345916800633\n",
      "AVG_RES_Y,-1.1546509220385135E-9\n",
      "STDEV_RES_Y,53.820248237186505\n",
      "DISPERSION,2896.619120312377\n",
      "R2,0.5274014705850838\n",
      "ADJUSTED_R2,0.5126327665408679\n",
      "R2_NOBIAS,0.5274014705850838\n",
      "ADJUSTED_R2_NOBIAS,0.5126327665408679\n",
      "Writing the output matrix...\n",
      "END LINEAR REGRESSION SCRIPT\n",
      "SystemML Statistics:\n",
      "Total execution time:\t\t0.410 sec.\n",
      "Number of executed Spark inst:\t2.\n",
      "\n",
      "\n"
     ]
    },
    {
     "data": {
      "text/plain": [
       "lr"
      ]
     },
     "execution_count": 9,
     "metadata": {},
     "output_type": "execute_result"
    }
   ],
   "source": [
    "regr.fit(x_train,y_train)"
   ]
  },
  {
   "cell_type": "code",
   "execution_count": 10,
   "metadata": {},
   "outputs": [
    {
     "name": "stdout",
     "output_type": "stream",
     "text": [
      "[Stage 0:>                                                          (0 + 0) / 1]\n",
      "[Stage 0:>                                                          (0 + 1) / 1]\n",
      "                                                                                \n",
      "SystemML Statistics:\n",
      "Total execution time:\t\t0.020 sec.\n",
      "Number of executed Spark inst:\t1.\n",
      "\n",
      "\n"
     ]
    }
   ],
   "source": [
    "prediction = regr.predict(x_test)"
   ]
  },
  {
   "cell_type": "code",
   "execution_count": 11,
   "metadata": {},
   "outputs": [],
   "source": [
    "from sklearn.metrics import mean_squared_error"
   ]
  },
  {
   "cell_type": "code",
   "execution_count": 12,
   "metadata": {},
   "outputs": [],
   "source": [
    "lin_mse = mean_squared_error(y_test,prediction)"
   ]
  },
  {
   "cell_type": "code",
   "execution_count": 13,
   "metadata": {},
   "outputs": [],
   "source": [
    "lin_rmse = np.sqrt(lin_mse)"
   ]
  },
  {
   "cell_type": "code",
   "execution_count": 14,
   "metadata": {},
   "outputs": [
    {
     "name": "stdout",
     "output_type": "stream",
     "text": [
      "RMSE LOSS 55.839299856022855\n"
     ]
    }
   ],
   "source": [
    "print (\"RMSE LOSS \"+str(lin_rmse))"
   ]
  },
  {
   "cell_type": "code",
   "execution_count": 15,
   "metadata": {},
   "outputs": [
    {
     "name": "stdout",
     "output_type": "stream",
     "text": [
      "SystemML Statistics:\n",
      "Total execution time:\t\t0.002 sec.\n",
      "Number of executed Spark inst:\t1.\n",
      "\n",
      "\n"
     ]
    },
    {
     "data": {
      "text/plain": [
       "0.4695631927188711"
      ]
     },
     "execution_count": 15,
     "metadata": {},
     "output_type": "execute_result"
    }
   ],
   "source": [
    "regr.score(x_test,y_test)"
   ]
  },
  {
   "cell_type": "markdown",
   "metadata": {},
   "source": [
    "## classification problem(with logistic regression)"
   ]
  },
  {
   "cell_type": "code",
   "execution_count": 16,
   "metadata": {},
   "outputs": [],
   "source": [
    "from systemml.mllearn import LogisticRegression"
   ]
  },
  {
   "cell_type": "code",
   "execution_count": 17,
   "metadata": {},
   "outputs": [],
   "source": [
    "from sklearn import datasets"
   ]
  },
  {
   "cell_type": "code",
   "execution_count": 18,
   "metadata": {},
   "outputs": [],
   "source": [
    "iris = datasets.load_iris()"
   ]
  },
  {
   "cell_type": "code",
   "execution_count": 19,
   "metadata": {},
   "outputs": [],
   "source": [
    "X = iris.data\n",
    "y  = iris.target"
   ]
  },
  {
   "cell_type": "code",
   "execution_count": 20,
   "metadata": {},
   "outputs": [],
   "source": [
    "x_train,x_test,y_train,y_test = train_test_split(X,y)"
   ]
  },
  {
   "cell_type": "code",
   "execution_count": 21,
   "metadata": {},
   "outputs": [],
   "source": [
    "lregr = LogisticRegression(spark)"
   ]
  },
  {
   "cell_type": "code",
   "execution_count": 22,
   "metadata": {},
   "outputs": [
    {
     "name": "stdout",
     "output_type": "stream",
     "text": [
      "BEGIN MULTINOMIAL LOGISTIC REGRESSION SCRIPT\n",
      "Reading X...\n",
      "Reading Y...\n",
      "-- Initially:  Objective = 123.04457633082829,  Gradient Norm = 105.7729801666443,  Trust Delta = 0.1002167023689846\n",
      "-- Outer Iteration 1: Had 1 CG iterations, trust bound REACHED\n",
      "   -- Obj.Reduction:  Actual = 6.433137773709134,  Predicted = 6.03629320909514  (A/P: 1.0657),  Trust Delta = 0.12746559195654691\n",
      "   -- New Objective = 116.61143855711916,  Beta Change Norm = 0.1002167023689846,  Gradient Norm = 90.94733262111474\n",
      " \n",
      "-- Outer Iteration 2: Had 2 CG iterations, trust bound REACHED\n",
      "   -- Obj.Reduction:  Actual = 6.884376343524693,  Predicted = 6.800337544114733  (A/P: 1.0124),  Trust Delta = 0.16066180573721137\n",
      "   -- New Objective = 109.72706221359446,  Beta Change Norm = 0.12746559195654691,  Gradient Norm = 93.80235525255407\n",
      " \n",
      "-- Outer Iteration 3: Had 2 CG iterations, trust bound REACHED\n",
      "   -- Obj.Reduction:  Actual = 9.322153440153016,  Predicted = 9.303011382807098  (A/P: 1.0021),  Trust Delta = 0.257297133253853\n",
      "   -- New Objective = 100.40490877344145,  Beta Change Norm = 0.16066180573721137,  Gradient Norm = 73.53280175857535\n",
      " \n",
      "-- Outer Iteration 4: Had 2 CG iterations, trust bound REACHED\n",
      "   -- Obj.Reduction:  Actual = 12.20835562145156,  Predicted = 12.153476873785927  (A/P: 1.0045),  Trust Delta = 0.5343380025208699\n",
      "   -- New Objective = 88.19655315198989,  Beta Change Norm = 0.257297133253853,  Gradient Norm = 57.50354967244284\n",
      " \n",
      "-- Outer Iteration 5: Had 2 CG iterations, trust bound REACHED\n",
      "   -- Obj.Reduction:  Actual = 16.589922779031525,  Predicted = 15.637500309044151  (A/P: 1.0609),  Trust Delta = 0.9347322766057142\n",
      "   -- New Objective = 71.60663037295836,  Beta Change Norm = 0.5343380025208699,  Gradient Norm = 28.31734761043677\n",
      " \n",
      "-- Outer Iteration 6: Had 3 CG iterations, trust bound REACHED\n",
      "   -- Obj.Reduction:  Actual = 14.479883936133831,  Predicted = 12.314203086261113  (A/P: 1.1759),  Trust Delta = 1.408047888003984\n",
      "   -- New Objective = 57.12674643682453,  Beta Change Norm = 0.9347322766057141,  Gradient Norm = 15.601508403568456\n",
      " \n",
      "-- Outer Iteration 7: Had 2 CG iterations, trust bound REACHED\n",
      "   -- Obj.Reduction:  Actual = 10.702878143445787,  Predicted = 8.70258678020009  (A/P: 1.2299),  Trust Delta = 2.006825253248169\n",
      "   -- New Objective = 46.423868293378746,  Beta Change Norm = 1.408047888003984,  Gradient Norm = 10.312886871069418\n",
      " \n",
      "-- Outer Iteration 8: Had 5 CG iterations, trust bound REACHED\n",
      "   -- Obj.Reduction:  Actual = 5.873300333286878,  Predicted = 5.2629609019331305  (A/P: 1.116),  Trust Delta = 2.4307432946366587\n",
      "   -- New Objective = 40.55056796009187,  Beta Change Norm = 2.006825253248169,  Gradient Norm = 2.564085520585034\n",
      " \n",
      "-- Outer Iteration 9: Had 5 CG iterations, trust bound REACHED\n",
      "   -- Obj.Reduction:  Actual = 1.8036386051828757,  Predicted = 1.7426068653177358  (A/P: 1.035),  Trust Delta = 3.719376915843698\n",
      "   -- New Objective = 38.74692935490899,  Beta Change Norm = 2.4307432946366587,  Gradient Norm = 1.2606175202557333\n",
      " \n",
      "-- Outer Iteration 10: Had 5 CG iterations, trust bound REACHED\n",
      "   -- Obj.Reduction:  Actual = 2.1273441974137413,  Predicted = 2.138657740885436  (A/P: 0.9947),  Trust Delta = 5.877549183703336\n",
      "   -- New Objective = 36.61958515749525,  Beta Change Norm = 3.7193769158436973,  Gradient Norm = 0.9697230647861409\n",
      " \n",
      "-- Outer Iteration 11: Had 5 CG iterations, trust bound REACHED\n",
      "   -- Obj.Reduction:  Actual = 2.06172762913787,  Predicted = 1.9969470472569406  (A/P: 1.0324),  Trust Delta = 8.760100290780192\n",
      "   -- New Objective = 34.55785752835738,  Beta Change Norm = 5.877549183703336,  Gradient Norm = 1.2385016841009078\n",
      " \n",
      "-- Outer Iteration 12: Had 8 CG iterations\n",
      "   -- Obj.Reduction:  Actual = 0.9906582696324406,  Predicted = 0.9603036179129977  (A/P: 1.0316),  Trust Delta = 8.760100290780192\n",
      "   -- New Objective = 33.56719925872494,  Beta Change Norm = 6.7313103931944385,  Gradient Norm = 0.40942729348475265\n",
      " \n",
      "-- Outer Iteration 13: Had 6 CG iterations\n",
      "   -- Obj.Reduction:  Actual = 0.033826048977836365,  Predicted = 0.03336723333714342  (A/P: 1.0138),  Trust Delta = 8.760100290780192\n",
      "   -- New Objective = 33.533373209747104,  Beta Change Norm = 0.7652284747625894,  Gradient Norm = 0.04591129845782163\n",
      " \n",
      "-- Outer Iteration 14: Had 10 CG iterations\n",
      "   -- Obj.Reduction:  Actual = 0.003986905632338278,  Predicted = 0.003975552203077549  (A/P: 1.0029),  Trust Delta = 8.760100290780192\n",
      "   -- New Objective = 33.529386304114766,  Beta Change Norm = 0.4768331512517482,  Gradient Norm = 0.0034754642957354003\n",
      " \n",
      "-- Outer Iteration 15: Had 4 CG iterations\n",
      "   -- Obj.Reduction:  Actual = 4.188428029294755E-6,  Predicted = 4.188376609714301E-6  (A/P: 1.0),  Trust Delta = 8.760100290780192\n",
      "   -- New Objective = 33.52938211568674,  Beta Change Norm = 0.0027873755290036936,  Gradient Norm = 2.4182109948254945E-4\n",
      " \n",
      "-- Outer Iteration 16: Had 10 CG iterations\n",
      "   -- Obj.Reduction:  Actual = 1.958653825795409E-7,  Predicted = 1.9586006606348343E-7  (A/P: 1.0),  Trust Delta = 8.760100290780192\n",
      "   -- New Objective = 33.529381919821354,  Beta Change Norm = 0.0029620230014906295,  Gradient Norm = 3.361850758789471E-5\n",
      "Termination / Convergence condition satisfied.\n",
      "SystemML Statistics:\n",
      "Total execution time:\t\t4.448 sec.\n",
      "Number of executed Spark inst:\t2.\n",
      "\n",
      "\n"
     ]
    },
    {
     "data": {
      "text/plain": [
       "logReg"
      ]
     },
     "execution_count": 22,
     "metadata": {},
     "output_type": "execute_result"
    }
   ],
   "source": [
    "lregr.fit(x_train,y_train)"
   ]
  },
  {
   "cell_type": "code",
   "execution_count": 23,
   "metadata": {},
   "outputs": [
    {
     "name": "stdout",
     "output_type": "stream",
     "text": [
      "SystemML Statistics:\n",
      "Total execution time:\t\t0.012 sec.\n",
      "Number of executed Spark inst:\t0.\n",
      "\n",
      "\n"
     ]
    },
    {
     "name": "stderr",
     "output_type": "stream",
     "text": [
      "/opt/ipnb/lib/python3.6/site-packages/sklearn/preprocessing/label.py:273: DataConversionWarning: A column-vector y was passed when a 1d array was expected. Please change the shape of y to (n_samples, ), for example using ravel().\n",
      "  y = column_or_1d(y, warn=True)\n"
     ]
    },
    {
     "data": {
      "text/plain": [
       "0.9736842105263158"
      ]
     },
     "execution_count": 23,
     "metadata": {},
     "output_type": "execute_result"
    }
   ],
   "source": [
    "lregr.score(x_test,y_test)"
   ]
  },
  {
   "cell_type": "code",
   "execution_count": 24,
   "metadata": {},
   "outputs": [
    {
     "name": "stdout",
     "output_type": "stream",
     "text": [
      "SystemML Statistics:\n",
      "Total execution time:\t\t0.019 sec.\n",
      "Number of executed Spark inst:\t0.\n",
      "\n",
      "\n"
     ]
    }
   ],
   "source": [
    "predict = lregr.predict(x_test)"
   ]
  },
  {
   "cell_type": "code",
   "execution_count": 25,
   "metadata": {},
   "outputs": [
    {
     "data": {
      "text/plain": [
       "array([2., 0., 2., 2., 1., 0., 0., 0., 1., 1., 1., 1., 1., 0., 2., 0., 2.,\n",
       "       0., 0., 2., 0., 0., 1., 1., 2., 1., 1., 0., 2., 1., 0., 2., 1., 0.,\n",
       "       1., 0., 1., 2.])"
      ]
     },
     "execution_count": 25,
     "metadata": {},
     "output_type": "execute_result"
    }
   ],
   "source": [
    "predict"
   ]
  },
  {
   "cell_type": "code",
   "execution_count": 26,
   "metadata": {},
   "outputs": [
    {
     "name": "stdout",
     "output_type": "stream",
     "text": [
      "[2 0 2 2 1 0 0 0 1 1 2 1 1 0 2 0 2 0 0 2 0 0 1 1 2 1 1 0 2 1 0 2 1 0 1 0 1\n",
      " 2]\n"
     ]
    }
   ],
   "source": [
    "print(y_test)"
   ]
  },
  {
   "cell_type": "code",
   "execution_count": 27,
   "metadata": {},
   "outputs": [],
   "source": [
    "lin_mse = mean_squared_error(y_test,predict)"
   ]
  },
  {
   "cell_type": "code",
   "execution_count": 28,
   "metadata": {},
   "outputs": [],
   "source": [
    "lin_rmse = np.sqrt(lin_mse)"
   ]
  },
  {
   "cell_type": "code",
   "execution_count": 29,
   "metadata": {},
   "outputs": [
    {
     "name": "stdout",
     "output_type": "stream",
     "text": [
      "ERROR 0.16222142113076254\n"
     ]
    }
   ],
   "source": [
    "print(\"ERROR \"+str(lin_rmse))"
   ]
  },
  {
   "cell_type": "markdown",
   "metadata": {},
   "source": [
    "## support vector machine"
   ]
  },
  {
   "cell_type": "code",
   "execution_count": 30,
   "metadata": {},
   "outputs": [],
   "source": [
    "from systemml.mllearn import SVM"
   ]
  },
  {
   "cell_type": "code",
   "execution_count": 31,
   "metadata": {},
   "outputs": [],
   "source": [
    "svmclass = SVM(spark)"
   ]
  },
  {
   "cell_type": "code",
   "execution_count": 32,
   "metadata": {},
   "outputs": [],
   "source": [
    "data = datasets.load_breast_cancer()"
   ]
  },
  {
   "cell_type": "code",
   "execution_count": 33,
   "metadata": {},
   "outputs": [],
   "source": [
    "X = data.data"
   ]
  },
  {
   "cell_type": "code",
   "execution_count": 34,
   "metadata": {},
   "outputs": [],
   "source": [
    "y = data.target"
   ]
  },
  {
   "cell_type": "code",
   "execution_count": 35,
   "metadata": {},
   "outputs": [
    {
     "data": {
      "text/plain": [
       "array(['malignant', 'benign'], dtype='<U9')"
      ]
     },
     "execution_count": 35,
     "metadata": {},
     "output_type": "execute_result"
    }
   ],
   "source": [
    "data.target_names"
   ]
  },
  {
   "cell_type": "code",
   "execution_count": 36,
   "metadata": {},
   "outputs": [
    {
     "data": {
      "text/plain": [
       "array(['mean radius', 'mean texture', 'mean perimeter', 'mean area',\n",
       "       'mean smoothness', 'mean compactness', 'mean concavity',\n",
       "       'mean concave points', 'mean symmetry', 'mean fractal dimension',\n",
       "       'radius error', 'texture error', 'perimeter error', 'area error',\n",
       "       'smoothness error', 'compactness error', 'concavity error',\n",
       "       'concave points error', 'symmetry error',\n",
       "       'fractal dimension error', 'worst radius', 'worst texture',\n",
       "       'worst perimeter', 'worst area', 'worst smoothness',\n",
       "       'worst compactness', 'worst concavity', 'worst concave points',\n",
       "       'worst symmetry', 'worst fractal dimension'], dtype='<U23')"
      ]
     },
     "execution_count": 36,
     "metadata": {},
     "output_type": "execute_result"
    }
   ],
   "source": [
    "data.feature_names"
   ]
  },
  {
   "cell_type": "code",
   "execution_count": 37,
   "metadata": {},
   "outputs": [],
   "source": [
    "x_train,x_test,y_train,y_test = train_test_split(X,y)"
   ]
  },
  {
   "cell_type": "code",
   "execution_count": 38,
   "metadata": {},
   "outputs": [
    {
     "name": "stdout",
     "output_type": "stream",
     "text": [
      "ITER 0: OBJ=208.01803094191334\n",
      "ITER 1: OBJ=131.42869538565117\n",
      "ITER 2: OBJ=111.87117799098074\n",
      "ITER 3: OBJ=110.67872563480019\n",
      "ITER 4: OBJ=110.14533785790842\n",
      "ITER 5: OBJ=101.19000537683245\n",
      "ITER 6: OBJ=68.84460464740731\n",
      "ITER 7: OBJ=63.532604667680886\n",
      "ITER 8: OBJ=63.457325622648725\n",
      "ITER 9: OBJ=63.381934188005566\n",
      "ITER 10: OBJ=60.76353156172451\n",
      "ITER 11: OBJ=58.73482124933149\n",
      "ITER 12: OBJ=58.69803620290683\n",
      "ITER 13: OBJ=58.695653489154665\n",
      "ITER 14: OBJ=58.60751746334912\n",
      "ITER 15: OBJ=56.982740983915775\n",
      "ITER 16: OBJ=56.510876420337\n",
      "ITER 17: OBJ=56.500343592132694\n",
      "ITER 18: OBJ=56.496389226256916\n",
      "ITER 19: OBJ=56.34323496254031\n",
      "ITER 20: OBJ=53.79041229889879\n",
      "ITER 21: OBJ=52.75925477589684\n",
      "ITER 22: OBJ=52.73507792647618\n",
      "ITER 23: OBJ=52.73113956483922\n",
      "ITER 24: OBJ=52.621516002611315\n",
      "ITER 25: OBJ=52.10183130774666\n",
      "ITER 26: OBJ=52.05290610938725\n",
      "ITER 27: OBJ=52.05165117445829\n",
      "ITER 28: OBJ=52.04891348555444\n",
      "ITER 29: OBJ=51.91846378582633\n",
      "ITER 30: OBJ=51.00135676438098\n",
      "ITER 31: OBJ=50.87805534247497\n",
      "ITER 32: OBJ=50.875708609588436\n",
      "ITER 33: OBJ=50.874415370574276\n",
      "ITER 34: OBJ=50.81591458945016\n",
      "ITER 35: OBJ=50.26045066926177\n",
      "ITER 36: OBJ=50.15560666507109\n",
      "ITER 37: OBJ=50.15307594098459\n",
      "ITER 38: OBJ=50.151198092564535\n",
      "ITER 39: OBJ=50.07846499511445\n",
      "ITER 40: OBJ=49.70020014115088\n",
      "ITER 41: OBJ=49.65248431545253\n",
      "ITER 42: OBJ=49.64978720011683\n",
      "ITER 43: OBJ=49.61405662139349\n",
      "ITER 44: OBJ=47.7874172665673\n",
      "ITER 45: OBJ=41.344435899260894\n",
      "ITER 46: OBJ=40.742480173603326\n",
      "ITER 47: OBJ=40.730119762940305\n",
      "ITER 48: OBJ=40.7227795601647\n",
      "ITER 49: OBJ=40.447787713964395\n",
      "ITER 50: OBJ=39.121663515637245\n",
      "ITER 51: OBJ=38.973325639342235\n",
      "ITER 52: OBJ=38.96893676491286\n",
      "ITER 53: OBJ=38.95127350101148\n",
      "ITER 54: OBJ=38.58197251949104\n",
      "ITER 55: OBJ=38.41646311900575\n",
      "ITER 56: OBJ=38.41393164118472\n",
      "ITER 57: OBJ=38.41389412555233\n",
      "ITER 58: OBJ=38.41380245951089\n",
      "ITER 59: OBJ=38.407342819159126\n",
      "ITER 60: OBJ=38.3745773946055\n",
      "ITER 61: OBJ=38.3725167744653\n",
      "ITER 62: OBJ=38.37246278666178\n",
      "ITER 63: OBJ=38.37164204966366\n",
      "ITER 64: OBJ=38.32763702628036\n",
      "ITER 65: OBJ=38.2766746383368\n",
      "ITER 66: OBJ=38.2754115374856\n",
      "ITER 67: OBJ=38.27412676507555\n",
      "ITER 68: OBJ=38.20859127680933\n",
      "ITER 69: OBJ=38.12106715707358\n",
      "ITER 70: OBJ=38.11847676009761\n",
      "ITER 71: OBJ=38.11825794697378\n",
      "ITER 72: OBJ=38.11039653358294\n",
      "ITER 73: OBJ=37.61283595060286\n",
      "ITER 74: OBJ=36.29775292824062\n",
      "ITER 75: OBJ=36.21528029823383\n",
      "ITER 76: OBJ=36.210236915980296\n",
      "ITER 77: OBJ=36.13902982957814\n",
      "ITER 78: OBJ=35.28013434877828\n",
      "ITER 79: OBJ=35.0526521305165\n",
      "ITER 80: OBJ=35.04734682045109\n",
      "ITER 81: OBJ=35.04452428768973\n",
      "ITER 82: OBJ=34.93239840223599\n",
      "ITER 83: OBJ=34.08904816348395\n",
      "ITER 84: OBJ=33.95365695206948\n",
      "ITER 85: OBJ=33.9502896883017\n",
      "ITER 86: OBJ=33.947670755250336\n",
      "ITER 87: OBJ=33.86613396177406\n",
      "ITER 88: OBJ=33.64513655286804\n",
      "ITER 89: OBJ=33.62930376765711\n",
      "ITER 90: OBJ=33.62841686598309\n",
      "ITER 91: OBJ=33.61780998825744\n",
      "ITER 92: OBJ=33.136057335321844\n",
      "ITER 93: OBJ=31.211625904531232\n",
      "ITER 94: OBJ=31.03823624625111\n",
      "ITER 95: OBJ=31.032283755936156\n",
      "ITER 96: OBJ=30.992795988053228\n",
      "ITER 97: OBJ=30.31379379143936\n",
      "ITER 98: OBJ=29.998364411768332\n",
      "ITER 99: OBJ=29.98923032607135\n",
      "SystemML Statistics:\n",
      "Total execution time:\t\t0.915 sec.\n",
      "Number of executed Spark inst:\t2.\n",
      "\n",
      "\n"
     ]
    },
    {
     "data": {
      "text/plain": [
       "svm"
      ]
     },
     "execution_count": 38,
     "metadata": {},
     "output_type": "execute_result"
    }
   ],
   "source": [
    "svmclass.fit(x_train,y_train)"
   ]
  },
  {
   "cell_type": "code",
   "execution_count": 39,
   "metadata": {},
   "outputs": [
    {
     "name": "stdout",
     "output_type": "stream",
     "text": [
      "SystemML Statistics:\n",
      "Total execution time:\t\t0.009 sec.\n",
      "Number of executed Spark inst:\t0.\n",
      "\n",
      "\n"
     ]
    },
    {
     "name": "stderr",
     "output_type": "stream",
     "text": [
      "/opt/ipnb/lib/python3.6/site-packages/sklearn/preprocessing/label.py:273: DataConversionWarning: A column-vector y was passed when a 1d array was expected. Please change the shape of y to (n_samples, ), for example using ravel().\n",
      "  y = column_or_1d(y, warn=True)\n"
     ]
    },
    {
     "data": {
      "text/plain": [
       "0.36363636363636365"
      ]
     },
     "execution_count": 39,
     "metadata": {},
     "output_type": "execute_result"
    }
   ],
   "source": [
    "svmclass.score(x_test,y_test)  ### it does not do well cause SVM is for binary classification"
   ]
  },
  {
   "cell_type": "code",
   "execution_count": 40,
   "metadata": {},
   "outputs": [
    {
     "name": "stdout",
     "output_type": "stream",
     "text": [
      "BEGIN MULTINOMIAL LOGISTIC REGRESSION SCRIPT\n",
      "Reading X...\n",
      "Reading Y...\n",
      "-- Initially:  Objective = 295.2806989185367,  Gradient Norm = 40204.90640179132,  Trust Delta = 7.283783212246647E-4\n",
      "-- Outer Iteration 1: Had 2 CG iterations, trust bound REACHED\n",
      "   -- Obj.Reduction:  Actual = 11.489748052725872,  Predicted = 11.390656798322784  (A/P: 1.0087),  Trust Delta = 0.0011857261571846165\n",
      "   -- New Objective = 283.7909508658108,  Beta Change Norm = 7.283783212246647E-4,  Gradient Norm = 10173.557240946498\n",
      " \n",
      "-- Outer Iteration 2: Had 1 CG iterations, trust bound REACHED\n",
      "   -- Obj.Reduction:  Actual = 8.858275212471995,  Predicted = 8.899817801052356  (A/P: 0.9953),  Trust Delta = 0.0022315865011706625\n",
      "   -- New Objective = 274.93267565333883,  Beta Change Norm = 0.0011857261571846165,  Gradient Norm = 29109.42931817327\n",
      " \n",
      "-- Outer Iteration 3: Had 2 CG iterations, trust bound REACHED\n",
      "   -- Obj.Reduction:  Actual = 20.70078504680214,  Predicted = 20.03272984235177  (A/P: 1.0333),  Trust Delta = 0.006586677448472198\n",
      "   -- New Objective = 254.2318906065367,  Beta Change Norm = 0.002231586501170663,  Gradient Norm = 7824.44041120528\n",
      " \n",
      "-- Outer Iteration 4: Had 2 CG iterations, trust bound REACHED\n",
      "   -- Obj.Reduction:  Actual = 40.085057094167354,  Predicted = 36.946257270835275  (A/P: 1.085),  Trust Delta = 0.016538329234342918\n",
      "   -- New Objective = 214.14683351236934,  Beta Change Norm = 0.006586677448472197,  Gradient Norm = 6992.810219247406\n",
      " \n",
      "-- Outer Iteration 5: Had 2 CG iterations, trust bound REACHED\n",
      "   -- Obj.Reduction:  Actual = 55.73664419130705,  Predicted = 48.48334380893945  (A/P: 1.1496),  Trust Delta = 0.025248501686867007\n",
      "   -- New Objective = 158.4101893210623,  Beta Change Norm = 0.016538329234342918,  Gradient Norm = 10136.614045451191\n",
      " \n",
      "-- Outer Iteration 6: Had 2 CG iterations, trust bound REACHED\n",
      "   -- Obj.Reduction:  Actual = 40.90430685041284,  Predicted = 37.027405511962044  (A/P: 1.1047),  Trust Delta = 0.035540404446478796\n",
      "   -- New Objective = 117.50588247064945,  Beta Change Norm = 0.02524850168686701,  Gradient Norm = 5579.41754123187\n",
      " \n",
      "-- Outer Iteration 7: Had 2 CG iterations\n",
      "   -- Obj.Reduction:  Actual = 16.912511169558883,  Predicted = 13.513165531897965  (A/P: 1.2516),  Trust Delta = 0.036554149043774894\n",
      "   -- New Objective = 100.59337130109057,  Beta Change Norm = 0.027358658409323035,  Gradient Norm = 3400.3545019701205\n",
      " \n",
      "-- Outer Iteration 8: Had 2 CG iterations\n",
      "   -- Obj.Reduction:  Actual = 5.355869261427898,  Predicted = 4.718614886900437  (A/P: 1.1351),  Trust Delta = 0.036554149043774894\n",
      "   -- New Objective = 95.23750203966267,  Beta Change Norm = 0.024509076767793077,  Gradient Norm = 912.3908894714987\n",
      " \n",
      "-- Outer Iteration 9: Had 3 CG iterations, trust bound REACHED\n",
      "   -- Obj.Reduction:  Actual = 5.222787956489896,  Predicted = 4.953191795870204  (A/P: 1.0544),  Trust Delta = 0.06778770191527\n",
      "   -- New Objective = 90.01471408317278,  Beta Change Norm = 0.0365541490437749,  Gradient Norm = 141.5568868156298\n",
      " \n",
      "-- Outer Iteration 10: Had 2 CG iterations, trust bound REACHED\n",
      "   -- Obj.Reduction:  Actual = 3.3692093796192353,  Predicted = 3.860433443927989  (A/P: 0.8728),  Trust Delta = 0.06778770191527\n",
      "   -- New Objective = 86.64550470355354,  Beta Change Norm = 0.06778770191527,  Gradient Norm = 549.4691474481757\n",
      " \n",
      "-- Outer Iteration 11: Had 4 CG iterations, trust bound REACHED\n",
      "   -- Obj.Reduction:  Actual = 5.387404161794407,  Predicted = 5.112694029778587  (A/P: 1.0537),  Trust Delta = 0.09520282776979246\n",
      "   -- New Objective = 81.25810054175913,  Beta Change Norm = 0.06778770191527,  Gradient Norm = 85.41963993732573\n",
      " \n",
      "-- Outer Iteration 12: Had 4 CG iterations, trust bound REACHED\n",
      "   -- Obj.Reduction:  Actual = 4.180102075447181,  Predicted = 4.167390417401362  (A/P: 1.0031),  Trust Delta = 0.16713870154408514\n",
      "   -- New Objective = 77.07799846631195,  Beta Change Norm = 0.09520282776979247,  Gradient Norm = 312.8284240807091\n",
      " \n",
      "-- Outer Iteration 13: Had 5 CG iterations, trust bound REACHED\n",
      "   -- Obj.Reduction:  Actual = 5.973349006413073,  Predicted = 6.1450890801787175  (A/P: 0.9721),  Trust Delta = 0.2688833898557544\n",
      "   -- New Objective = 71.10464945989888,  Beta Change Norm = 0.16713870154408514,  Gradient Norm = 209.72697813940314\n",
      " \n",
      "-- Outer Iteration 14: Had 5 CG iterations, trust bound REACHED\n",
      "   -- Obj.Reduction:  Actual = 7.1198785822935875,  Predicted = 6.645111769984533  (A/P: 1.0714),  Trust Delta = 0.4481349194218936\n",
      "   -- New Objective = 63.98477087760529,  Beta Change Norm = 0.26888338985575433,  Gradient Norm = 309.1700220915819\n",
      " \n",
      "-- Outer Iteration 15: Had 3 CG iterations\n",
      "   -- Obj.Reduction:  Actual = 0.16424033096485857,  Predicted = 0.15845519750778334  (A/P: 1.0365),  Trust Delta = 0.4481349194218936\n",
      "   -- New Objective = 63.820530546640434,  Beta Change Norm = 0.007825647130174179,  Gradient Norm = 29.88362478551583\n",
      " \n",
      "-- Outer Iteration 16: Had 5 CG iterations, trust bound REACHED\n",
      "   -- Obj.Reduction:  Actual = 4.860861529989002,  Predicted = 4.580441054473998  (A/P: 1.0612),  Trust Delta = 0.5698028892264971\n",
      "   -- New Objective = 58.95966901665143,  Beta Change Norm = 0.44813491942189354,  Gradient Norm = 282.06191910422353\n",
      " \n",
      "-- Outer Iteration 17: Had 3 CG iterations\n",
      "   -- Obj.Reduction:  Actual = 0.11459377494937684,  Predicted = 0.11079292712494983  (A/P: 1.0343),  Trust Delta = 0.5698028892264971\n",
      "   -- New Objective = 58.845075241702055,  Beta Change Norm = 0.009220500511993395,  Gradient Norm = 20.2615741604192\n",
      " \n",
      "-- Outer Iteration 18: Had 7 CG iterations, trust bound REACHED\n",
      "   -- Obj.Reduction:  Actual = 4.834371195818143,  Predicted = 4.849308532663225  (A/P: 0.9969),  Trust Delta = 1.2741411082032539\n",
      "   -- New Objective = 54.01070404588391,  Beta Change Norm = 0.569802889226497,  Gradient Norm = 375.95716211848526\n",
      " \n",
      "-- Outer Iteration 19: Had 1 CG iterations\n",
      "   -- Obj.Reduction:  Actual = 0.003933782374332395,  Predicted = 0.003935678380706253  (A/P: 0.9995),  Trust Delta = 1.2741411082032539\n",
      "   -- New Objective = 54.00677026350958,  Beta Change Norm = 2.0936844817792827E-5,  Gradient Norm = 27.9639583143594\n",
      " \n",
      "-- Outer Iteration 20: Had 8 CG iterations, trust bound REACHED\n",
      "   -- Obj.Reduction:  Actual = 6.442755013489041,  Predicted = 5.986034286435236  (A/P: 1.0763),  Trust Delta = 1.5685927445539298\n",
      "   -- New Objective = 47.56401525002054,  Beta Change Norm = 1.2741411082032539,  Gradient Norm = 27.553994308261807\n",
      " \n",
      "-- Outer Iteration 21: Had 8 CG iterations\n",
      "   -- Obj.Reduction:  Actual = 1.7758070281406333,  Predicted = 1.7353990202593832  (A/P: 1.0233),  Trust Delta = 1.5685927445539298\n",
      "   -- New Objective = 45.788208221879906,  Beta Change Norm = 0.8618538336733732,  Gradient Norm = 125.21930776525431\n",
      " \n",
      "-- Outer Iteration 22: Had 1 CG iterations\n",
      "   -- Obj.Reduction:  Actual = 5.071991164555811E-4,  Predicted = 5.071990246203193E-4  (A/P: 1.0),  Trust Delta = 1.5685927445539298\n",
      "   -- New Objective = 45.78770102276345,  Beta Change Norm = 8.100971546195633E-6,  Gradient Norm = 9.067731059927995\n",
      " \n",
      "-- Outer Iteration 23: Had 7 CG iterations\n",
      "   -- Obj.Reduction:  Actual = 0.07502216910131665,  Predicted = 0.0735933797078959  (A/P: 1.0194),  Trust Delta = 1.5685927445539298\n",
      "   -- New Objective = 45.71267885366213,  Beta Change Norm = 0.06401098403441466,  Gradient Norm = 7.906220393771653\n",
      " \n",
      "-- Outer Iteration 24: Had 8 CG iterations\n",
      "   -- Obj.Reduction:  Actual = 0.18261449770039206,  Predicted = 0.1823144182611292  (A/P: 1.0016),  Trust Delta = 1.5685927445539298\n",
      "   -- New Objective = 45.53006435596174,  Beta Change Norm = 0.573291503560333,  Gradient Norm = 4.097156970956854\n",
      " \n",
      "-- Outer Iteration 25: Had 11 CG iterations, trust bound REACHED\n",
      "   -- Obj.Reduction:  Actual = 0.31920817183225125,  Predicted = 0.3199947569070417  (A/P: 0.9975),  Trust Delta = 1.8441831833884486\n",
      "   -- New Objective = 45.21085618412949,  Beta Change Norm = 1.5685927445539296,  Gradient Norm = 65.18007877749467\n",
      " \n",
      "-- Outer Iteration 26: Had 2 CG iterations\n",
      "   -- Obj.Reduction:  Actual = 0.07966117234451531,  Predicted = 0.07904703866031176  (A/P: 1.0078),  Trust Delta = 1.8441831833884486\n",
      "   -- New Objective = 45.131195011784975,  Beta Change Norm = 0.002512854080240986,  Gradient Norm = 16.399880875585797\n",
      " \n",
      "-- Outer Iteration 27: Had 1 CG iterations\n",
      "   -- Obj.Reduction:  Actual = 8.83213942159955E-6,  Predicted = 8.832137941201048E-6  (A/P: 1.0),  Trust Delta = 1.8441831833884486\n",
      "   -- New Objective = 45.13118617964555,  Beta Change Norm = 1.077097816527349E-6,  Gradient Norm = 1.0946572758061843\n",
      " \n",
      "-- Outer Iteration 28: Had 12 CG iterations, trust bound REACHED\n",
      "   -- Obj.Reduction:  Actual = 0.4794236128106135,  Predicted = 0.4761300392979617  (A/P: 1.0069),  Trust Delta = 3.0416948984284633\n",
      "   -- New Objective = 44.65176256683494,  Beta Change Norm = 1.8441831833884488,  Gradient Norm = 12.864564259698236\n",
      " \n",
      "-- Outer Iteration 29: Had 2 CG iterations\n",
      "   -- Obj.Reduction:  Actual = 0.002507887543039544,  Predicted = 0.0025105349871810284  (A/P: 0.9989),  Trust Delta = 3.0416948984284633\n",
      "   -- New Objective = 44.6492546792919,  Beta Change Norm = 4.562168905409925E-4,  Gradient Norm = 1.0876410085420682\n",
      " \n",
      "-- Outer Iteration 30: Had 13 CG iterations, trust bound REACHED\n",
      "   -- Obj.Reduction:  Actual = 0.6372836776351178,  Predicted = 0.6348969247655037  (A/P: 1.0038),  Trust Delta = 4.649616173283\n",
      "   -- New Objective = 44.01197100165678,  Beta Change Norm = 3.0416948984284633,  Gradient Norm = 115.40942473674967\n",
      " \n",
      "-- Outer Iteration 31: Had 1 CG iterations\n",
      "   -- Obj.Reduction:  Actual = 4.314249851375962E-4,  Predicted = 4.3143140507228043E-4  (A/P: 1.0),  Trust Delta = 4.649616173283\n",
      "   -- New Objective = 44.011539576671645,  Beta Change Norm = 7.476536791624788E-6,  Gradient Norm = 4.197865952105906\n",
      " \n",
      "-- Outer Iteration 32: Had 8 CG iterations\n",
      "   -- Obj.Reduction:  Actual = 0.14337819487906955,  Predicted = 0.14364992016924694  (A/P: 0.9981),  Trust Delta = 4.649616173283\n",
      "   -- New Objective = 43.868161381792575,  Beta Change Norm = 0.486133933379034,  Gradient Norm = 3.2509355093043433\n",
      " \n",
      "-- Outer Iteration 33: Had 12 CG iterations, trust bound REACHED\n",
      "   -- Obj.Reduction:  Actual = 0.5626127016470406,  Predicted = 0.559564335362728  (A/P: 1.0054),  Trust Delta = 5.1949346102265\n",
      "   -- New Objective = 43.305548680145534,  Beta Change Norm = 4.649616173283,  Gradient Norm = 15.866973442772652\n",
      " \n"
     ]
    },
    {
     "name": "stdout",
     "output_type": "stream",
     "text": [
      "-- Outer Iteration 34: Had 3 CG iterations\n",
      "   -- Obj.Reduction:  Actual = 0.0032453530236296046,  Predicted = 0.0032444439151118835  (A/P: 1.0003),  Trust Delta = 5.1949346102265\n",
      "   -- New Objective = 43.302303327121905,  Beta Change Norm = 7.413443884799639E-4,  Gradient Norm = 1.1725180084494322\n",
      " \n",
      "-- Outer Iteration 35: Had 16 CG iterations, trust bound REACHED\n",
      "   -- Obj.Reduction:  Actual = 0.7346022975637112,  Predicted = 0.7241114282119199  (A/P: 1.0145),  Trust Delta = 5.824905228144727\n",
      "   -- New Objective = 42.567701029558194,  Beta Change Norm = 5.194934610226501,  Gradient Norm = 34.5044444183731\n",
      " \n",
      "-- Outer Iteration 36: Had 2 CG iterations\n",
      "   -- Obj.Reduction:  Actual = 0.0012942692480422124,  Predicted = 0.0012897726598011512  (A/P: 1.0035),  Trust Delta = 5.824905228144727\n",
      "   -- New Objective = 42.56640676031015,  Beta Change Norm = 7.1441503039842E-4,  Gradient Norm = 3.3508638145627225\n",
      " \n",
      "-- Outer Iteration 37: Had 8 CG iterations\n",
      "   -- Obj.Reduction:  Actual = 0.14187594735653164,  Predicted = 0.140060049361333  (A/P: 1.013),  Trust Delta = 5.824905228144727\n",
      "   -- New Objective = 42.42453081295362,  Beta Change Norm = 0.3428633283965706,  Gradient Norm = 5.3162759292692945\n",
      " \n",
      "-- Outer Iteration 38: Had 1 CG iterations\n",
      "   -- Obj.Reduction:  Actual = 9.483197942472543E-7,  Predicted = 9.48321760095336E-7  (A/P: 1.0),  Trust Delta = 5.824905228144727\n",
      "   -- New Objective = 42.424529864633826,  Beta Change Norm = 3.567616778031609E-7,  Gradient Norm = 0.5146897845711651\n",
      " \n",
      "-- Outer Iteration 39: Had 16 CG iterations, trust bound REACHED\n",
      "   -- Obj.Reduction:  Actual = 0.3061379055174598,  Predicted = 0.3011950928749606  (A/P: 1.0164),  Trust Delta = 6.837160177528248\n",
      "   -- New Objective = 42.118391959116366,  Beta Change Norm = 5.824905228144727,  Gradient Norm = 90.73965488462538\n",
      " \n",
      "-- Outer Iteration 40: Had 2 CG iterations\n",
      "   -- Obj.Reduction:  Actual = 0.01692960639518759,  Predicted = 0.01683473721976424  (A/P: 1.0056),  Trust Delta = 6.837160177528248\n",
      "   -- New Objective = 42.10146235272118,  Beta Change Norm = 0.0035747358552961905,  Gradient Norm = 3.03929335973528\n",
      " \n",
      "-- Outer Iteration 41: Had 3 CG iterations\n",
      "   -- Obj.Reduction:  Actual = 2.445604479675012E-4,  Predicted = 2.448372023771596E-4  (A/P: 0.9989),  Trust Delta = 6.837160177528248\n",
      "   -- New Objective = 42.10121779227321,  Beta Change Norm = 2.8468628086748333E-4,  Gradient Norm = 0.2992834268976611\n",
      " \n",
      "-- Outer Iteration 42: Had 23 CG iterations\n",
      "   -- Obj.Reduction:  Actual = 0.057279697817037345,  Predicted = 0.05615951274698558  (A/P: 1.0199),  Trust Delta = 6.837160177528248\n",
      "   -- New Objective = 42.04393809445617,  Beta Change Norm = 2.7439367124035337,  Gradient Norm = 4.972100347030525\n",
      " \n",
      "-- Outer Iteration 43: Had 1 CG iterations\n",
      "   -- Obj.Reduction:  Actual = 8.515590863567013E-7,  Predicted = 8.515560215131898E-7  (A/P: 1.0),  Trust Delta = 6.837160177528248\n",
      "   -- New Objective = 42.04393724289709,  Beta Change Norm = 3.425337230057162E-7,  Gradient Norm = 0.32640254090960363\n",
      " \n",
      "-- Outer Iteration 44: Had 3 CG iterations\n",
      "   -- Obj.Reduction:  Actual = 1.2477452870029992E-5,  Predicted = 1.2474171973584973E-5  (A/P: 1.0003),  Trust Delta = 6.837160177528248\n",
      "   -- New Objective = 42.04392476544422,  Beta Change Norm = 7.66407201726685E-5,  Gradient Norm = 0.023427851147213612\n",
      "Termination / Convergence condition satisfied.\n",
      "SystemML Statistics:\n",
      "Total execution time:\t\t5.253 sec.\n",
      "Number of executed Spark inst:\t2.\n",
      "\n",
      "\n"
     ]
    },
    {
     "data": {
      "text/plain": [
       "logReg"
      ]
     },
     "execution_count": 40,
     "metadata": {},
     "output_type": "execute_result"
    }
   ],
   "source": [
    "lregr.fit(x_train,y_train)"
   ]
  },
  {
   "cell_type": "code",
   "execution_count": 41,
   "metadata": {},
   "outputs": [
    {
     "name": "stdout",
     "output_type": "stream",
     "text": [
      "SystemML Statistics:\n",
      "Total execution time:\t\t0.011 sec.\n",
      "Number of executed Spark inst:\t0.\n",
      "\n",
      "\n"
     ]
    },
    {
     "data": {
      "text/plain": [
       "0.958041958041958"
      ]
     },
     "execution_count": 41,
     "metadata": {},
     "output_type": "execute_result"
    }
   ],
   "source": [
    "lregr.score(x_test,y_test)"
   ]
  },
  {
   "cell_type": "code",
   "execution_count": 42,
   "metadata": {},
   "outputs": [
    {
     "name": "stdout",
     "output_type": "stream",
     "text": [
      "SystemML Statistics:\n",
      "Total execution time:\t\t0.012 sec.\n",
      "Number of executed Spark inst:\t0.\n",
      "\n",
      "\n"
     ]
    }
   ],
   "source": [
    "predict=lregr.predict(x_test)"
   ]
  },
  {
   "cell_type": "code",
   "execution_count": 43,
   "metadata": {},
   "outputs": [
    {
     "name": "stdout",
     "output_type": "stream",
     "text": [
      "[1. 1. 0. 1. 0. 1. 1. 1. 1. 1. 1. 0. 1. 1. 1. 0. 1. 1. 1. 0. 1. 1. 1. 1.\n",
      " 0. 1. 1. 1. 0. 1. 1. 1. 1. 1. 1. 1. 0. 1. 0. 1. 0. 0. 0. 0. 1. 0. 1. 0.\n",
      " 0. 0. 0. 1. 1. 1. 1. 1. 0. 0. 1. 1. 0. 1. 0. 1. 1. 1. 1. 0. 1. 0. 0. 1.\n",
      " 1. 1. 0. 0. 0. 1. 1. 1. 0. 1. 0. 0. 1. 1. 0. 1. 1. 0. 0. 0. 0. 1. 1. 1.\n",
      " 0. 1. 1. 1. 1. 0. 1. 1. 0. 1. 0. 1. 0. 1. 0. 1. 1. 0. 0. 1. 1. 1. 1. 1.\n",
      " 1. 1. 1. 1. 1. 1. 0. 1. 1. 1. 1. 1. 1. 0. 1. 1. 1. 1. 0. 0. 0. 0. 1.]\n"
     ]
    }
   ],
   "source": [
    "print (predict)"
   ]
  },
  {
   "cell_type": "code",
   "execution_count": 44,
   "metadata": {},
   "outputs": [
    {
     "name": "stdout",
     "output_type": "stream",
     "text": [
      "ERROR 0.20483662259967567\n"
     ]
    }
   ],
   "source": [
    "lin_mse = mean_squared_error(y_test,predict)\n",
    "lin_rmse = np.sqrt(lin_mse)\n",
    "print (\"ERROR \"+str(lin_rmse))"
   ]
  },
  {
   "cell_type": "markdown",
   "metadata": {},
   "source": [
    "## binary classifier with apache system ml(iris data)"
   ]
  },
  {
   "cell_type": "code",
   "execution_count": 45,
   "metadata": {},
   "outputs": [],
   "source": [
    "data = datasets.load_iris()"
   ]
  },
  {
   "cell_type": "code",
   "execution_count": 46,
   "metadata": {},
   "outputs": [],
   "source": [
    "X = data.data"
   ]
  },
  {
   "cell_type": "code",
   "execution_count": 47,
   "metadata": {},
   "outputs": [
    {
     "data": {
      "text/plain": [
       "array(['setosa', 'versicolor', 'virginica'], dtype='<U10')"
      ]
     },
     "execution_count": 47,
     "metadata": {},
     "output_type": "execute_result"
    }
   ],
   "source": [
    "data.target_names"
   ]
  },
  {
   "cell_type": "code",
   "execution_count": 48,
   "metadata": {},
   "outputs": [],
   "source": [
    "## we  will make a setosa classifier"
   ]
  },
  {
   "cell_type": "code",
   "execution_count": 49,
   "metadata": {},
   "outputs": [],
   "source": [
    "y = data.target"
   ]
  },
  {
   "cell_type": "code",
   "execution_count": 50,
   "metadata": {},
   "outputs": [],
   "source": [
    "y = (y==1)"
   ]
  },
  {
   "cell_type": "code",
   "execution_count": 51,
   "metadata": {},
   "outputs": [],
   "source": [
    "y=y.astype(float)  ## this is a setosa result"
   ]
  },
  {
   "cell_type": "code",
   "execution_count": 52,
   "metadata": {},
   "outputs": [],
   "source": [
    "x_train,x_test,y_train,y_test = train_test_split(X,y)"
   ]
  },
  {
   "cell_type": "code",
   "execution_count": 53,
   "metadata": {},
   "outputs": [
    {
     "name": "stdout",
     "output_type": "stream",
     "text": [
      "ITER 0: OBJ=48.169399520735276\n",
      "ITER 1: OBJ=42.77955193977342\n",
      "ITER 2: OBJ=37.27198784327764\n",
      "ITER 3: OBJ=37.26712868220422\n",
      "ITER 4: OBJ=37.2216625598059\n",
      "ITER 5: OBJ=37.21051840432777\n",
      "ITER 6: OBJ=36.426700889206316\n",
      "ITER 7: OBJ=36.42577806928339\n",
      "ITER 8: OBJ=36.42118920204739\n",
      "ITER 9: OBJ=36.42094137856431\n",
      "ITER 10: OBJ=36.33428197433751\n",
      "ITER 11: OBJ=36.331881088176466\n",
      "ITER 12: OBJ=36.33096563425971\n",
      "ITER 13: OBJ=36.33069831526734\n",
      "ITER 14: OBJ=36.32531853856059\n",
      "ITER 15: OBJ=36.32381280200468\n",
      "ITER 16: OBJ=36.32381216140469\n",
      "SystemML Statistics:\n",
      "Total execution time:\t\t0.043 sec.\n",
      "Number of executed Spark inst:\t2.\n",
      "\n",
      "\n"
     ]
    },
    {
     "data": {
      "text/plain": [
       "svm"
      ]
     },
     "execution_count": 53,
     "metadata": {},
     "output_type": "execute_result"
    }
   ],
   "source": [
    "svmclass.fit(x_train,y_train)"
   ]
  },
  {
   "cell_type": "code",
   "execution_count": 54,
   "metadata": {},
   "outputs": [
    {
     "name": "stdout",
     "output_type": "stream",
     "text": [
      "SystemML Statistics:\n",
      "Total execution time:\t\t0.010 sec.\n",
      "Number of executed Spark inst:\t0.\n",
      "\n",
      "\n"
     ]
    },
    {
     "name": "stderr",
     "output_type": "stream",
     "text": [
      "/opt/ipnb/lib/python3.6/site-packages/sklearn/preprocessing/label.py:273: DataConversionWarning: A column-vector y was passed when a 1d array was expected. Please change the shape of y to (n_samples, ), for example using ravel().\n",
      "  y = column_or_1d(y, warn=True)\n"
     ]
    }
   ],
   "source": [
    "prediction = svmclass.predict(x_test)"
   ]
  },
  {
   "cell_type": "code",
   "execution_count": 55,
   "metadata": {},
   "outputs": [
    {
     "name": "stdout",
     "output_type": "stream",
     "text": [
      "SystemML Statistics:\n",
      "Total execution time:\t\t0.008 sec.\n",
      "Number of executed Spark inst:\t0.\n",
      "\n",
      "\n"
     ]
    },
    {
     "data": {
      "text/plain": [
       "0.5789473684210527"
      ]
     },
     "execution_count": 55,
     "metadata": {},
     "output_type": "execute_result"
    }
   ],
   "source": [
    "svmclass.score(x_test,y_test)"
   ]
  },
  {
   "cell_type": "code",
   "execution_count": 56,
   "metadata": {},
   "outputs": [
    {
     "name": "stdout",
     "output_type": "stream",
     "text": [
      "SystemML Statistics:\n",
      "Total execution time:\t\t0.001 sec.\n",
      "Number of executed Spark inst:\t0.\n",
      "\n",
      "\n"
     ]
    },
    {
     "data": {
      "text/plain": [
       "array([0., 0., 0., 0., 0., 0., 0., 0., 0., 0., 0., 0., 0., 0., 0., 0., 0.,\n",
       "       0., 0., 0., 0., 0., 0., 0., 0., 0., 0., 0., 0., 0., 0., 0., 0., 0.,\n",
       "       0., 0., 0., 0.])"
      ]
     },
     "execution_count": 56,
     "metadata": {},
     "output_type": "execute_result"
    }
   ],
   "source": [
    "svmclass.predict(x_test)"
   ]
  },
  {
   "cell_type": "code",
   "execution_count": 57,
   "metadata": {},
   "outputs": [
    {
     "name": "stdout",
     "output_type": "stream",
     "text": [
      "BEGIN MULTINOMIAL LOGISTIC REGRESSION SCRIPT\n",
      "Reading X...\n",
      "Reading Y...\n",
      "-- Initially:  Objective = 77.63248422271387,  Gradient Norm = 161.97384048049236,  Trust Delta = 0.1002167023689846\n",
      "-- Outer Iteration 1: Had 2 CG iterations, trust bound REACHED\n",
      "   -- Obj.Reduction:  Actual = 8.405079048161596,  Predicted = 8.214863438217249  (A/P: 1.0232),  Trust Delta = 0.10520363068623811\n",
      "   -- New Objective = 69.22740517455227,  Beta Change Norm = 0.1002167023689846,  Gradient Norm = 25.051604004666164\n",
      " \n",
      "-- Outer Iteration 2: Had 1 CG iterations, trust bound REACHED\n",
      "   -- Obj.Reduction:  Actual = 2.1595440614474484,  Predicted = 2.1428314088483895  (A/P: 1.0078),  Trust Delta = 0.2912609603620991\n",
      "   -- New Objective = 67.06786111310483,  Beta Change Norm = 0.10520363068623813,  Gradient Norm = 27.00696927100134\n",
      " \n",
      "-- Outer Iteration 3: Had 2 CG iterations, trust bound REACHED\n",
      "   -- Obj.Reduction:  Actual = 3.6134762500707183,  Predicted = 3.5941895461600577  (A/P: 1.0054),  Trust Delta = 0.37732888897502664\n",
      "   -- New Objective = 63.45438486303411,  Beta Change Norm = 0.29126096036209903,  Gradient Norm = 13.352389914643338\n",
      " \n",
      "-- Outer Iteration 4: Had 3 CG iterations, trust bound REACHED\n",
      "   -- Obj.Reduction:  Actual = 1.5734111504988206,  Predicted = 1.473937343224299  (A/P: 1.0675),  Trust Delta = 0.4900757078061766\n",
      "   -- New Objective = 61.88097371253529,  Beta Change Norm = 0.3773288889750266,  Gradient Norm = 6.116685528734437\n",
      " \n",
      "-- Outer Iteration 5: Had 3 CG iterations, trust bound REACHED\n",
      "   -- Obj.Reduction:  Actual = 1.4055747508797864,  Predicted = 1.4610580685383394  (A/P: 0.962),  Trust Delta = 0.5776332352910861\n",
      "   -- New Objective = 60.4753989616555,  Beta Change Norm = 0.4900757078061766,  Gradient Norm = 6.426100098799602\n",
      " \n",
      "-- Outer Iteration 6: Had 3 CG iterations, trust bound REACHED\n",
      "   -- Obj.Reduction:  Actual = 1.5475207128820117,  Predicted = 1.5118929965312817  (A/P: 1.0236),  Trust Delta = 0.9077137009115875\n",
      "   -- New Objective = 58.92787824877349,  Beta Change Norm = 0.5776332352910861,  Gradient Norm = 2.412847517737174\n",
      " \n",
      "-- Outer Iteration 7: Had 3 CG iterations, trust bound REACHED\n",
      "   -- Obj.Reduction:  Actual = 0.836485202541823,  Predicted = 0.820416578402647  (A/P: 1.0196),  Trust Delta = 1.000415589174\n",
      "   -- New Objective = 58.091393046231666,  Beta Change Norm = 0.9077137009115877,  Gradient Norm = 1.4953467158305203\n",
      " \n",
      "-- Outer Iteration 8: Had 3 CG iterations, trust bound REACHED\n",
      "   -- Obj.Reduction:  Actual = 0.5886870219679139,  Predicted = 0.5929630256726572  (A/P: 0.9928),  Trust Delta = 1.3174799275616333\n",
      "   -- New Objective = 57.50270602426375,  Beta Change Norm = 1.0004155891739999,  Gradient Norm = 1.1885783251754265\n",
      " \n",
      "-- Outer Iteration 9: Had 4 CG iterations, trust bound REACHED\n",
      "   -- Obj.Reduction:  Actual = 0.7278700656336596,  Predicted = 0.7209405979549541  (A/P: 1.0096),  Trust Delta = 1.9100127305767747\n",
      "   -- New Objective = 56.77483595863009,  Beta Change Norm = 1.3174799275616333,  Gradient Norm = 0.8068084151054705\n",
      " \n",
      "-- Outer Iteration 10: Had 3 CG iterations, trust bound REACHED\n",
      "   -- Obj.Reduction:  Actual = 0.4407307328305947,  Predicted = 0.43605430060296524  (A/P: 1.0107),  Trust Delta = 2.035371102246575\n",
      "   -- New Objective = 56.3341052257995,  Beta Change Norm = 1.910012730576775,  Gradient Norm = 0.9761428733612858\n",
      " \n",
      "-- Outer Iteration 11: Had 3 CG iterations\n",
      "   -- Obj.Reduction:  Actual = 0.017282694870168314,  Predicted = 0.01736029155819232  (A/P: 0.9955),  Trust Delta = 2.035371102246575\n",
      "   -- New Objective = 56.31682253092933,  Beta Change Norm = 0.10287238320973618,  Gradient Norm = 0.06726939126517935\n",
      " \n",
      "-- Outer Iteration 12: Had 5 CG iterations\n",
      "   -- Obj.Reduction:  Actual = 0.005632985386966993,  Predicted = 0.005620959591137397  (A/P: 1.0021),  Trust Delta = 2.035371102246575\n",
      "   -- New Objective = 56.31118954554236,  Beta Change Norm = 0.2444897483860501,  Gradient Norm = 0.006236628107659699\n",
      " \n",
      "-- Outer Iteration 13: Had 2 CG iterations\n",
      "   -- Obj.Reduction:  Actual = 2.7246819911397324E-8,  Predicted = 2.7246397415593882E-8  (A/P: 1.0),  Trust Delta = 2.035371102246575\n",
      "   -- New Objective = 56.31118951829554,  Beta Change Norm = 2.9321194237691597E-5,  Gradient Norm = 2.2096503116401107E-4\n",
      " \n",
      "-- Outer Iteration 14: Had 5 CG iterations\n",
      "   -- Obj.Reduction:  Actual = 7.047452754704864E-8,  Predicted = 7.047372312078213E-8  (A/P: 1.0),  Trust Delta = 2.035371102246575\n",
      "   -- New Objective = 56.311189447821015,  Beta Change Norm = 8.58606021758733E-4,  Gradient Norm = 7.94489159777713E-8\n",
      "Termination / Convergence condition satisfied.\n",
      "SystemML Statistics:\n",
      "Total execution time:\t\t1.084 sec.\n",
      "Number of executed Spark inst:\t2.\n",
      "\n",
      "\n"
     ]
    },
    {
     "data": {
      "text/plain": [
       "logReg"
      ]
     },
     "execution_count": 57,
     "metadata": {},
     "output_type": "execute_result"
    }
   ],
   "source": [
    "lregr.fit(x_train,y_train)"
   ]
  },
  {
   "cell_type": "code",
   "execution_count": 58,
   "metadata": {},
   "outputs": [
    {
     "name": "stdout",
     "output_type": "stream",
     "text": [
      "SystemML Statistics:\n",
      "Total execution time:\t\t0.009 sec.\n",
      "Number of executed Spark inst:\t0.\n",
      "\n",
      "\n"
     ]
    },
    {
     "data": {
      "text/plain": [
       "array([0., 0., 0., 0., 0., 0., 0., 0., 0., 0., 0., 0., 0., 0., 1., 0., 0.,\n",
       "       0., 1., 0., 0., 0., 0., 1., 0., 0., 0., 0., 1., 0., 0., 1., 0., 0.,\n",
       "       1., 0., 0., 0.])"
      ]
     },
     "execution_count": 58,
     "metadata": {},
     "output_type": "execute_result"
    }
   ],
   "source": [
    "lregr.predict(x_test)"
   ]
  },
  {
   "cell_type": "code",
   "execution_count": 59,
   "metadata": {},
   "outputs": [
    {
     "name": "stdout",
     "output_type": "stream",
     "text": [
      "SystemML Statistics:\n",
      "Total execution time:\t\t0.012 sec.\n",
      "Number of executed Spark inst:\t0.\n",
      "\n",
      "\n"
     ]
    },
    {
     "data": {
      "text/plain": [
       "0.631578947368421"
      ]
     },
     "execution_count": 59,
     "metadata": {},
     "output_type": "execute_result"
    }
   ],
   "source": [
    "lregr.score(x_test,y_test)"
   ]
  },
  {
   "cell_type": "markdown",
   "metadata": {},
   "source": [
    "## Naieve bias classifier"
   ]
  },
  {
   "cell_type": "code",
   "execution_count": 60,
   "metadata": {},
   "outputs": [],
   "source": [
    "from systemml.mllearn import NaiveBayes"
   ]
  },
  {
   "cell_type": "code",
   "execution_count": 61,
   "metadata": {},
   "outputs": [],
   "source": [
    "nv = NaiveBayes(spark)"
   ]
  },
  {
   "cell_type": "code",
   "execution_count": 62,
   "metadata": {},
   "outputs": [],
   "source": [
    "data = datasets.load_breast_cancer()"
   ]
  },
  {
   "cell_type": "code",
   "execution_count": 63,
   "metadata": {},
   "outputs": [],
   "source": [
    "X = data.data"
   ]
  },
  {
   "cell_type": "code",
   "execution_count": 64,
   "metadata": {},
   "outputs": [],
   "source": [
    "y = data.target"
   ]
  },
  {
   "cell_type": "code",
   "execution_count": 65,
   "metadata": {},
   "outputs": [],
   "source": [
    "x_train,x_test,y_train,y_test = train_test_split(X,y)"
   ]
  },
  {
   "cell_type": "code",
   "execution_count": 66,
   "metadata": {},
   "outputs": [
    {
     "name": "stdout",
     "output_type": "stream",
     "text": [
      "Training Accuracy (%): 91.07981220657277\n",
      "SystemML Statistics:\n",
      "Total execution time:\t\t0.085 sec.\n",
      "Number of executed Spark inst:\t2.\n",
      "\n",
      "\n"
     ]
    },
    {
     "data": {
      "text/plain": [
       "nb"
      ]
     },
     "execution_count": 66,
     "metadata": {},
     "output_type": "execute_result"
    }
   ],
   "source": [
    "nv.fit(x_train,y_train)"
   ]
  },
  {
   "cell_type": "code",
   "execution_count": 67,
   "metadata": {},
   "outputs": [
    {
     "name": "stdout",
     "output_type": "stream",
     "text": [
      "SystemML Statistics:\n",
      "Total execution time:\t\t0.011 sec.\n",
      "Number of executed Spark inst:\t0.\n",
      "\n",
      "\n"
     ]
    },
    {
     "data": {
      "text/plain": [
       "0.8531468531468531"
      ]
     },
     "execution_count": 67,
     "metadata": {},
     "output_type": "execute_result"
    }
   ],
   "source": [
    "nv.score(x_test,y_test)"
   ]
  },
  {
   "cell_type": "code",
   "execution_count": 68,
   "metadata": {},
   "outputs": [
    {
     "name": "stdout",
     "output_type": "stream",
     "text": [
      "SystemML Statistics:\n",
      "Total execution time:\t\t0.010 sec.\n",
      "Number of executed Spark inst:\t0.\n",
      "\n",
      "\n",
      "[1. 0. 1. 1. 1. 1. 1. 1. 1. 0. 1. 0. 1. 1. 0. 1. 1. 0. 0. 1. 1. 0. 1. 0.\n",
      " 1. 0. 0. 1. 1. 1. 1. 1. 1. 1. 1. 0. 0. 1. 1. 1. 0. 1. 0. 1. 1. 1. 1. 0.\n",
      " 1. 0. 1. 1. 0. 0. 0. 1. 0. 1. 1. 1. 1. 1. 1. 1. 1. 0. 1. 1. 0. 0. 1. 1.\n",
      " 0. 1. 1. 1. 1. 1. 1. 0. 1. 1. 1. 1. 1. 1. 1. 1. 1. 1. 1. 1. 1. 0. 1. 0.\n",
      " 1. 1. 1. 1. 0. 0. 0. 0. 1. 1. 1. 1. 1. 1. 1. 1. 1. 0. 1. 1. 1. 1. 0. 1.\n",
      " 1. 0. 1. 1. 0. 1. 1. 1. 1. 1. 1. 1. 0. 0. 0. 1. 1. 0. 1. 0. 1. 0. 0.]\n"
     ]
    }
   ],
   "source": [
    "print (nv.predict(x_test))"
   ]
  },
  {
   "cell_type": "code",
   "execution_count": 69,
   "metadata": {},
   "outputs": [
    {
     "name": "stdout",
     "output_type": "stream",
     "text": [
      "SystemML Statistics:\n",
      "Total execution time:\t\t0.015 sec.\n",
      "Number of executed Spark inst:\t0.\n",
      "\n",
      "\n"
     ]
    },
    {
     "data": {
      "text/plain": [
       "0.7062937062937062"
      ]
     },
     "execution_count": 69,
     "metadata": {},
     "output_type": "execute_result"
    }
   ],
   "source": [
    "sum(nv.predict(x_test))/len(x_test)"
   ]
  },
  {
   "cell_type": "code",
   "execution_count": 70,
   "metadata": {},
   "outputs": [
    {
     "data": {
      "text/plain": [
       "0.5874125874125874"
      ]
     },
     "execution_count": 70,
     "metadata": {},
     "output_type": "execute_result"
    }
   ],
   "source": [
    "sum(y_test)/len(x_test)"
   ]
  },
  {
   "cell_type": "markdown",
   "metadata": {},
   "source": [
    "## SEQUENTIAL NURAL NETWORK IN SYSTEMML MODEL WITH KERAS API"
   ]
  },
  {
   "cell_type": "code",
   "execution_count": 71,
   "metadata": {},
   "outputs": [
    {
     "name": "stdout",
     "output_type": "stream",
     "text": [
      "Requirement already satisfied: tensorflow in /opt/ipnb3/lib/python3.6/site-packages (1.13.1)\n",
      "Requirement already satisfied: grpcio>=1.8.6 in /opt/ipnb3/lib/python3.6/site-packages (from tensorflow) (1.21.1)\n",
      "Requirement already satisfied: absl-py>=0.1.6 in /opt/ipnb3/lib/python3.6/site-packages (from tensorflow) (0.7.1)\n",
      "Requirement already satisfied: protobuf>=3.6.1 in /opt/ipnb3/lib/python3.6/site-packages (from tensorflow) (3.7.1)\n",
      "Requirement already satisfied: termcolor>=1.1.0 in /opt/ipnb3/lib/python3.6/site-packages (from tensorflow) (1.1.0)\n",
      "Requirement already satisfied: keras-preprocessing>=1.0.5 in /opt/ipnb3/lib/python3.6/site-packages (from tensorflow) (1.0.9)\n",
      "Requirement already satisfied: keras-applications>=1.0.6 in /opt/ipnb3/lib/python3.6/site-packages (from tensorflow) (1.0.7)\n",
      "Requirement already satisfied: wheel>=0.26 in /opt/ipnb3/lib/python3.6/site-packages (from tensorflow) (0.32.3)\n",
      "Requirement already satisfied: gast>=0.2.0 in /opt/ipnb3/lib/python3.6/site-packages (from tensorflow) (0.2.2)\n",
      "Requirement already satisfied: astor>=0.6.0 in /opt/ipnb3/lib/python3.6/site-packages (from tensorflow) (0.8.0)\n",
      "Requirement already satisfied: tensorboard<1.14.0,>=1.13.0 in /opt/ipnb3/lib/python3.6/site-packages (from tensorflow) (1.13.1)\n",
      "Requirement already satisfied: six>=1.10.0 in /opt/ipnb3/lib/python3.6/site-packages (from tensorflow) (1.12.0)\n",
      "Requirement already satisfied: numpy>=1.13.3 in /opt/ipnb3/lib/python3.6/site-packages (from tensorflow) (1.16.1)\n",
      "Requirement already satisfied: tensorflow-estimator<1.14.0rc0,>=1.13.0 in /opt/ipnb3/lib/python3.6/site-packages (from tensorflow) (1.13.0)\n",
      "Requirement already satisfied: setuptools in /opt/ipnb3/lib/python3.6/site-packages (from protobuf>=3.6.1->tensorflow) (40.7.2)\n",
      "Requirement already satisfied: h5py in /opt/ipnb3/lib/python3.6/site-packages (from keras-applications>=1.0.6->tensorflow) (2.9.0)\n",
      "Requirement already satisfied: werkzeug>=0.11.15 in /opt/ipnb3/lib/python3.6/site-packages (from tensorboard<1.14.0,>=1.13.0->tensorflow) (0.15.4)\n",
      "Requirement already satisfied: markdown>=2.6.8 in /opt/ipnb3/lib/python3.6/site-packages (from tensorboard<1.14.0,>=1.13.0->tensorflow) (3.1.1)\n",
      "Requirement already satisfied: mock>=2.0.0 in /opt/ipnb3/lib/python3.6/site-packages (from tensorflow-estimator<1.14.0rc0,>=1.13.0->tensorflow) (3.0.5)\n",
      "\u001b[33mYou are using pip version 18.1, however version 19.1.1 is available.\n",
      "You should consider upgrading via the 'pip install --upgrade pip' command.\u001b[0m\n"
     ]
    }
   ],
   "source": [
    "! pip install tensorflow"
   ]
  },
  {
   "cell_type": "code",
   "execution_count": 72,
   "metadata": {},
   "outputs": [
    {
     "name": "stdout",
     "output_type": "stream",
     "text": [
      "Requirement already satisfied: keras in /opt/ipnb3/lib/python3.6/site-packages (2.2.4)\n",
      "Requirement already satisfied: h5py in /opt/ipnb3/lib/python3.6/site-packages (from keras) (2.9.0)\n",
      "Requirement already satisfied: numpy>=1.9.1 in /opt/ipnb3/lib/python3.6/site-packages (from keras) (1.16.1)\n",
      "Requirement already satisfied: scipy>=0.14 in /opt/ipnb3/lib/python3.6/site-packages (from keras) (1.2.0)\n",
      "Requirement already satisfied: keras-applications>=1.0.6 in /opt/ipnb3/lib/python3.6/site-packages (from keras) (1.0.7)\n",
      "Requirement already satisfied: keras-preprocessing>=1.0.5 in /opt/ipnb3/lib/python3.6/site-packages (from keras) (1.0.9)\n",
      "Requirement already satisfied: six>=1.9.0 in /opt/ipnb3/lib/python3.6/site-packages (from keras) (1.12.0)\n",
      "Requirement already satisfied: pyyaml in /opt/ipnb3/lib/python3.6/site-packages (from keras) (3.13)\n",
      "\u001b[33mYou are using pip version 18.1, however version 19.1.1 is available.\n",
      "You should consider upgrading via the 'pip install --upgrade pip' command.\u001b[0m\n"
     ]
    }
   ],
   "source": [
    "! pip install keras"
   ]
  },
  {
   "cell_type": "code",
   "execution_count": 73,
   "metadata": {},
   "outputs": [
    {
     "name": "stderr",
     "output_type": "stream",
     "text": [
      "Using TensorFlow backend.\n"
     ]
    }
   ],
   "source": [
    "from keras.datasets import mnist"
   ]
  },
  {
   "cell_type": "code",
   "execution_count": 74,
   "metadata": {},
   "outputs": [],
   "source": [
    "(x_train,y_train),(x_test,y_test) = mnist.load_data()"
   ]
  },
  {
   "cell_type": "code",
   "execution_count": 75,
   "metadata": {},
   "outputs": [
    {
     "name": "stdout",
     "output_type": "stream",
     "text": [
      "(60000, 28, 28)\n",
      "(10000, 28, 28)\n",
      "(60000,)\n",
      "(10000,)\n"
     ]
    }
   ],
   "source": [
    "print (x_train.shape)\n",
    "print (x_test.shape)\n",
    "print (y_train.shape)\n",
    "print (y_test.shape)"
   ]
  },
  {
   "cell_type": "code",
   "execution_count": 76,
   "metadata": {},
   "outputs": [],
   "source": [
    "x_train = x_train.reshape(60000,784)\n",
    "x_test = x_test.reshape(10000,784)"
   ]
  },
  {
   "cell_type": "code",
   "execution_count": 77,
   "metadata": {},
   "outputs": [],
   "source": [
    "from keras.layers import Dense,Dropout"
   ]
  },
  {
   "cell_type": "code",
   "execution_count": 78,
   "metadata": {},
   "outputs": [],
   "source": [
    "from keras.models import Sequential\n",
    "import keras"
   ]
  },
  {
   "cell_type": "code",
   "execution_count": 79,
   "metadata": {},
   "outputs": [],
   "source": [
    "x_train = keras.utils.normalize(x_train)\n",
    "x_test = keras.utils.normalize(x_test)\n",
    "\n",
    "model = Sequential()"
   ]
  },
  {
   "cell_type": "code",
   "execution_count": 80,
   "metadata": {},
   "outputs": [
    {
     "name": "stdout",
     "output_type": "stream",
     "text": [
      "WARNING:tensorflow:From /opt/ipnb/lib/python3.6/site-packages/tensorflow/python/framework/op_def_library.py:263: colocate_with (from tensorflow.python.framework.ops) is deprecated and will be removed in a future version.\n",
      "Instructions for updating:\n",
      "Colocations handled automatically by placer.\n"
     ]
    }
   ],
   "source": [
    "model.add(Dense(512,activation='relu',input_shape=(784,)))"
   ]
  },
  {
   "cell_type": "code",
   "execution_count": 81,
   "metadata": {},
   "outputs": [
    {
     "name": "stdout",
     "output_type": "stream",
     "text": [
      "WARNING:tensorflow:From /opt/ipnb/lib/python3.6/site-packages/keras/backend/tensorflow_backend.py:3445: calling dropout (from tensorflow.python.ops.nn_ops) with keep_prob is deprecated and will be removed in a future version.\n",
      "Instructions for updating:\n",
      "Please use `rate` instead of `keep_prob`. Rate should be set to `rate = 1 - keep_prob`.\n"
     ]
    }
   ],
   "source": [
    "model.add(Dropout(.2))"
   ]
  },
  {
   "cell_type": "code",
   "execution_count": 82,
   "metadata": {},
   "outputs": [],
   "source": [
    "model.add(Dense(512,activation='relu'))"
   ]
  },
  {
   "cell_type": "code",
   "execution_count": 83,
   "metadata": {},
   "outputs": [],
   "source": [
    "model.add(Dropout(.2))"
   ]
  },
  {
   "cell_type": "code",
   "execution_count": 84,
   "metadata": {},
   "outputs": [],
   "source": [
    "model.add(Dense(10,activation='softmax'))"
   ]
  },
  {
   "cell_type": "code",
   "execution_count": 85,
   "metadata": {},
   "outputs": [],
   "source": [
    "model.compile(optimizer='Adam',loss='categorical_crossentropy',metrics=['accuracy'])"
   ]
  },
  {
   "cell_type": "code",
   "execution_count": 86,
   "metadata": {},
   "outputs": [],
   "source": [
    "#model.fit(x_train,y_train,epochs=5)"
   ]
  },
  {
   "cell_type": "code",
   "execution_count": 87,
   "metadata": {},
   "outputs": [],
   "source": [
    "keras.backend.set_image_data_format(\"channels_first\")\n"
   ]
  },
  {
   "cell_type": "code",
   "execution_count": 88,
   "metadata": {},
   "outputs": [],
   "source": [
    "#from systemml.mllearn import Keras2DML\n",
    "#import math\n",
    "#epochs = 5\n",
    "#batch_size = 100\n",
    "#samples = 60000\n",
    "#max_iter = int(epochs*math.ceil(samples/batch_size))\n",
    "\n",
    "#sysml_model = Keras2DML(spark, model)\n",
    "\n",
    "#sysml_model.fit(x_train, y_train)"
   ]
  },
  {
   "cell_type": "code",
   "execution_count": 89,
   "metadata": {},
   "outputs": [],
   "source": [
    "## need more Ram to execute the huge thread ## leave it "
   ]
  },
  {
   "cell_type": "markdown",
   "metadata": {},
   "source": [
    "## smaler program\n",
    "## iris dataset check"
   ]
  },
  {
   "cell_type": "code",
   "execution_count": 90,
   "metadata": {},
   "outputs": [],
   "source": [
    "#data = datasets.load_iris()"
   ]
  },
  {
   "cell_type": "code",
   "execution_count": 91,
   "metadata": {},
   "outputs": [],
   "source": [
    "#X = data.data"
   ]
  },
  {
   "cell_type": "code",
   "execution_count": 92,
   "metadata": {},
   "outputs": [],
   "source": [
    "#y=data.target"
   ]
  },
  {
   "cell_type": "code",
   "execution_count": 93,
   "metadata": {},
   "outputs": [],
   "source": [
    "#len(X)"
   ]
  },
  {
   "cell_type": "code",
   "execution_count": 94,
   "metadata": {},
   "outputs": [],
   "source": [
    "#len(y)"
   ]
  },
  {
   "cell_type": "code",
   "execution_count": 95,
   "metadata": {},
   "outputs": [],
   "source": [
    "#x_train,x_test,y_train,y_test = train_test_split(X,y)"
   ]
  },
  {
   "cell_type": "code",
   "execution_count": 96,
   "metadata": {},
   "outputs": [],
   "source": [
    "#model1 = Sequential()"
   ]
  },
  {
   "cell_type": "code",
   "execution_count": 97,
   "metadata": {},
   "outputs": [],
   "source": [
    "#x_train.shape[:1]"
   ]
  },
  {
   "cell_type": "code",
   "execution_count": null,
   "metadata": {},
   "outputs": [],
   "source": []
  },
  {
   "cell_type": "code",
   "execution_count": null,
   "metadata": {},
   "outputs": [],
   "source": []
  },
  {
   "cell_type": "code",
   "execution_count": null,
   "metadata": {},
   "outputs": [],
   "source": []
  },
  {
   "cell_type": "code",
   "execution_count": null,
   "metadata": {},
   "outputs": [],
   "source": []
  },
  {
   "cell_type": "code",
   "execution_count": null,
   "metadata": {},
   "outputs": [],
   "source": []
  },
  {
   "cell_type": "code",
   "execution_count": 98,
   "metadata": {},
   "outputs": [],
   "source": [
    "#model1 = Sequential()\n",
    "\n",
    "#model1.add(Dense(10,input_shape=(4,),activation='relu'))\n",
    "#model1.add(Dense(8,activation='relu'))\n",
    "#model1.add(Dense(6,activation='relu'))\n",
    "#model1.add(Dense(3,activation='softmax'))\n",
    "\n",
    "#model1.compile(optimizer='Adam',loss='categorical_crossentropy',metrics=['accuracy'])\n"
   ]
  },
  {
   "cell_type": "code",
   "execution_count": 99,
   "metadata": {},
   "outputs": [],
   "source": [
    "#from systemml.mllearn import Keras2DML\n",
    "#import math\n",
    "#epochs = 2\n",
    "#batch_size = 100\n",
    "#samples = 60000\n",
    "#max_iter = int(epochs*math.ceil(samples/batch_size))\n",
    "\n",
    "#sysml_model1 = Keras2DML(spark, model1)\n",
    "\n",
    "#sysml_model1.fit(x_train[:10], y_train[:10])"
   ]
  },
  {
   "cell_type": "code",
   "execution_count": 100,
   "metadata": {},
   "outputs": [],
   "source": [
    "#! pip install mlxtend\n",
    "from mlxtend.data import mnist_data\n",
    "import numpy as np \n",
    "from sklearn.utils import shuffle # Download the MNIST dataset \n",
    "X, y = mnist_data() \n",
    "X, y = shuffle(X, y) # Split the data into training and test \n",
    "n_samples = len(X) \n",
    "X_train = X[:int(.9 * n_samples)] \n",
    "y_train = y[:int(.9 * n_samples)] \n",
    "X_test = X[int(.9 * n_samples):] \n",
    "y_test = y[int(.9 * n_samples):] "
   ]
  },
  {
   "cell_type": "markdown",
   "metadata": {},
   "source": [
    "## convnet"
   ]
  },
  {
   "cell_type": "code",
   "execution_count": 101,
   "metadata": {},
   "outputs": [
    {
     "name": "stdout",
     "output_type": "stream",
     "text": [
      "_________________________________________________________________\n",
      "Layer (type)                 Output Shape              Param #   \n",
      "=================================================================\n",
      "conv2d_1 (Conv2D)            (None, 32, 28, 28)        832       \n",
      "_________________________________________________________________\n",
      "max_pooling2d_1 (MaxPooling2 (None, 32, 14, 14)        0         \n",
      "_________________________________________________________________\n",
      "conv2d_2 (Conv2D)            (None, 64, 14, 14)        51264     \n",
      "_________________________________________________________________\n",
      "max_pooling2d_2 (MaxPooling2 (None, 64, 7, 7)          0         \n",
      "_________________________________________________________________\n",
      "flatten_1 (Flatten)          (None, 3136)              0         \n",
      "_________________________________________________________________\n",
      "dense_4 (Dense)              (None, 512)               1606144   \n",
      "_________________________________________________________________\n",
      "dropout_3 (Dropout)          (None, 512)               0         \n",
      "_________________________________________________________________\n",
      "dense_5 (Dense)              (None, 10)                5130      \n",
      "=================================================================\n",
      "Total params: 1,663,370\n",
      "Trainable params: 1,663,370\n",
      "Non-trainable params: 0\n",
      "_________________________________________________________________\n"
     ]
    },
    {
     "name": "stderr",
     "output_type": "stream",
     "text": [
      "/opt/ipnb/lib/python3.6/site-packages/keras/engine/sequential.py:110: UserWarning: `Sequential.model` is deprecated. `Sequential` is a subclass of `Model`, you can just use your `Sequential` instance directly.\n",
      "  warnings.warn('`Sequential.model` is deprecated. '\n"
     ]
    },
    {
     "name": "stdout",
     "output_type": "stream",
     "text": [
      "Loading the model from /tmp/tmpaq3ahab7...\n",
      "SystemML Statistics:\n",
      "Total execution time:\t\t0.001 sec.\n",
      "Number of executed Spark inst:\t0.\n",
      "\n",
      "\n",
      "Loading the model from weights_dir...\n",
      "SystemML Statistics:\n",
      "Total execution time:\t\t0.000 sec.\n",
      "Number of executed Spark inst:\t0.\n",
      "\n",
      "\n",
      "Time taken to generate prediction script from Caffe proto:0.140357027secs.\n",
      "SystemML Statistics:\n",
      "Total execution time:\t\t18.460 sec.\n",
      "Number of executed Spark inst:\t0.\n",
      "\n",
      "\n"
     ]
    },
    {
     "data": {
      "text/plain": [
       "0.068"
      ]
     },
     "execution_count": 101,
     "metadata": {},
     "output_type": "execute_result"
    }
   ],
   "source": [
    "from keras.models import Sequential\n",
    "from keras.layers import Input, Dense, Conv2D, MaxPooling2D, Dropout,Flatten\n",
    "from keras import backend as K\n",
    "from keras.models import Model\n",
    "input_shape = (1,28,28) if K.image_data_format() == 'channels_first' else (28,28, 1)\n",
    "keras_model = Sequential()\n",
    "keras_model.add(Conv2D(32, kernel_size=(5, 5), activation='relu', input_shape=input_shape, padding='same'))\n",
    "keras_model.add(MaxPooling2D(pool_size=(2, 2)))\n",
    "keras_model.add(Conv2D(64, (5, 5), activation='relu', padding='same'))\n",
    "keras_model.add(MaxPooling2D(pool_size=(2, 2)))\n",
    "keras_model.add(Flatten())\n",
    "keras_model.add(Dense(512, activation='relu'))\n",
    "keras_model.add(Dropout(0.5))\n",
    "keras_model.add(Dense(10, activation='softmax'))\n",
    "keras_model.summary()\n",
    "keras_model.compile(optimizer='Adam',loss='categorical_crossentropy',metrics=['accuracy'])\n",
    "\n",
    "# Scale the input features\n",
    "scale = 0.00390625\n",
    "X_train = X_train*scale\n",
    "X_test = X_test*scale\n",
    "\n",
    "from systemml.mllearn import Keras2DML\n",
    "sysml_model = Keras2DML(spark, keras_model)\n",
    "sysml_model.setConfigProperty(\"sysml.native.blas\", \"auto\")\n",
    "sysml_model.setGPU(True).setForceGPU(True)\n",
    "sysml_model = Keras2DML(spark, keras_model, input_shape=(1,28,28), weights='weights_dir')\n",
    "sysml_model.score(X_test, y_test)\n",
    "\n"
   ]
  },
  {
   "cell_type": "code",
   "execution_count": 102,
   "metadata": {},
   "outputs": [],
   "source": [
    "## finally it works"
   ]
  },
  {
   "cell_type": "code",
   "execution_count": null,
   "metadata": {},
   "outputs": [],
   "source": []
  }
 ],
 "metadata": {
  "kernelspec": {
   "display_name": "Pyspark (Py3)",
   "language": "",
   "name": "pyspark"
  },
  "language_info": {
   "codemirror_mode": {
    "name": "ipython",
    "version": 3
   },
   "file_extension": ".py",
   "mimetype": "text/x-python",
   "name": "python",
   "nbconvert_exporter": "python",
   "pygments_lexer": "ipython3",
   "version": "3.6.7"
  }
 },
 "nbformat": 4,
 "nbformat_minor": 2
}
