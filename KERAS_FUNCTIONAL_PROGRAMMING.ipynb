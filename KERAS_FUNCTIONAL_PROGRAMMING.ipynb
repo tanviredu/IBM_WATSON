{
  "nbformat": 4,
  "nbformat_minor": 0,
  "metadata": {
    "colab": {
      "name": "KERAS_FUNCTIONAL_PROGRAMMING.ipynb",
      "version": "0.3.2",
      "provenance": []
    },
    "kernelspec": {
      "name": "python3",
      "display_name": "Python 3"
    },
    "accelerator": "GPU"
  },
  "cells": [
    {
      "cell_type": "code",
      "metadata": {
        "id": "tFxzAEqJdfaT",
        "colab_type": "code",
        "colab": {
          "base_uri": "https://localhost:8080/",
          "height": 35
        },
        "outputId": "9c54dea0-4564-4b2c-e93b-df2813717f92"
      },
      "source": [
        "## mnist predction with functional prediction\n",
        "from keras.layers import Input,Dense\n",
        "from keras.models import Model\n",
        "from keras.datasets import mnist\n",
        "import keras"
      ],
      "execution_count": 1,
      "outputs": [
        {
          "output_type": "stream",
          "text": [
            "Using TensorFlow backend.\n"
          ],
          "name": "stderr"
        }
      ]
    },
    {
      "cell_type": "code",
      "metadata": {
        "id": "j4cJK065eaPs",
        "colab_type": "code",
        "colab": {}
      },
      "source": [
        "num_classes = 10\n",
        "\n",
        "(x_train,y_train),(x_test,y_test) = mnist.load_data()\n",
        "x_train = x_train.reshape(60000,784)\n",
        "x_test=x_test.reshape(10000,784)\n",
        "x_train = keras.utils.normalize(x_train)\n",
        "x_test = keras.utils.normalize(x_test)"
      ],
      "execution_count": 0,
      "outputs": []
    },
    {
      "cell_type": "code",
      "metadata": {
        "id": "_UXMDS4xei6V",
        "colab_type": "code",
        "colab": {
          "base_uri": "https://localhost:8080/",
          "height": 91
        },
        "outputId": "b680276a-3474-41a5-c9f7-f6ab76ecb716"
      },
      "source": [
        "inputs = Input(shape=(784,))\n",
        "x = Dense(512,activation='relu')(inputs)\n"
      ],
      "execution_count": 3,
      "outputs": [
        {
          "output_type": "stream",
          "text": [
            "WARNING:tensorflow:From /usr/local/lib/python3.6/dist-packages/tensorflow/python/framework/op_def_library.py:263: colocate_with (from tensorflow.python.framework.ops) is deprecated and will be removed in a future version.\n",
            "Instructions for updating:\n",
            "Colocations handled automatically by placer.\n"
          ],
          "name": "stdout"
        }
      ]
    },
    {
      "cell_type": "code",
      "metadata": {
        "id": "m_KhURicevS6",
        "colab_type": "code",
        "colab": {}
      },
      "source": [
        "x = Dense(512,activation='relu')(x)"
      ],
      "execution_count": 0,
      "outputs": []
    },
    {
      "cell_type": "code",
      "metadata": {
        "id": "xqp1O_Sxe047",
        "colab_type": "code",
        "colab": {}
      },
      "source": [
        "prediction = Dense(num_classes,activation='softmax')(x)"
      ],
      "execution_count": 0,
      "outputs": []
    },
    {
      "cell_type": "code",
      "metadata": {
        "id": "ZqTquAI0e8sj",
        "colab_type": "code",
        "colab": {}
      },
      "source": [
        "model = Model(inputs=inputs,outputs=prediction)"
      ],
      "execution_count": 0,
      "outputs": []
    },
    {
      "cell_type": "code",
      "metadata": {
        "id": "u8yuBeobfn_Z",
        "colab_type": "code",
        "colab": {
          "base_uri": "https://localhost:8080/",
          "height": 35
        },
        "outputId": "39b4a2e4-27c7-435e-ff6c-f1e438e1ee51"
      },
      "source": [
        "x_test.shape"
      ],
      "execution_count": 7,
      "outputs": [
        {
          "output_type": "execute_result",
          "data": {
            "text/plain": [
              "(10000, 784)"
            ]
          },
          "metadata": {
            "tags": []
          },
          "execution_count": 7
        }
      ]
    },
    {
      "cell_type": "code",
      "metadata": {
        "id": "BEUu3m8Sfp3J",
        "colab_type": "code",
        "colab": {}
      },
      "source": [
        "model.compile(loss='sparse_categorical_crossentropy',optimizer='Adam',metrics=['accuracy'])"
      ],
      "execution_count": 0,
      "outputs": []
    },
    {
      "cell_type": "code",
      "metadata": {
        "id": "ZRwNPQ5bfvbp",
        "colab_type": "code",
        "colab": {
          "base_uri": "https://localhost:8080/",
          "height": 822
        },
        "outputId": "34814a5f-3ddc-4be1-cb3f-48403f1c13e6"
      },
      "source": [
        "model.fit(x_train,y_train,epochs=20)"
      ],
      "execution_count": 9,
      "outputs": [
        {
          "output_type": "stream",
          "text": [
            "WARNING:tensorflow:From /usr/local/lib/python3.6/dist-packages/tensorflow/python/ops/math_ops.py:3066: to_int32 (from tensorflow.python.ops.math_ops) is deprecated and will be removed in a future version.\n",
            "Instructions for updating:\n",
            "Use tf.cast instead.\n",
            "Epoch 1/20\n",
            "60000/60000 [==============================] - 7s 124us/step - loss: 0.2305 - acc: 0.9316\n",
            "Epoch 2/20\n",
            "60000/60000 [==============================] - 7s 110us/step - loss: 0.0869 - acc: 0.9728\n",
            "Epoch 3/20\n",
            "60000/60000 [==============================] - 6s 95us/step - loss: 0.0568 - acc: 0.9822\n",
            "Epoch 4/20\n",
            "60000/60000 [==============================] - 6s 94us/step - loss: 0.0413 - acc: 0.9871\n",
            "Epoch 5/20\n",
            "60000/60000 [==============================] - 6s 93us/step - loss: 0.0302 - acc: 0.9904\n",
            "Epoch 6/20\n",
            "60000/60000 [==============================] - 6s 94us/step - loss: 0.0260 - acc: 0.9914\n",
            "Epoch 7/20\n",
            "60000/60000 [==============================] - 6s 93us/step - loss: 0.0214 - acc: 0.9927\n",
            "Epoch 8/20\n",
            "60000/60000 [==============================] - 6s 94us/step - loss: 0.0181 - acc: 0.9942\n",
            "Epoch 9/20\n",
            "60000/60000 [==============================] - 6s 93us/step - loss: 0.0145 - acc: 0.9952\n",
            "Epoch 10/20\n",
            "60000/60000 [==============================] - 6s 93us/step - loss: 0.0134 - acc: 0.9956\n",
            "Epoch 11/20\n",
            "60000/60000 [==============================] - 6s 93us/step - loss: 0.0135 - acc: 0.9954\n",
            "Epoch 12/20\n",
            "60000/60000 [==============================] - 6s 93us/step - loss: 0.0125 - acc: 0.9958\n",
            "Epoch 13/20\n",
            "60000/60000 [==============================] - 6s 98us/step - loss: 0.0102 - acc: 0.9966\n",
            "Epoch 14/20\n",
            "60000/60000 [==============================] - 6s 106us/step - loss: 0.0089 - acc: 0.9972\n",
            "Epoch 15/20\n",
            "60000/60000 [==============================] - 6s 95us/step - loss: 0.0106 - acc: 0.9965\n",
            "Epoch 16/20\n",
            "60000/60000 [==============================] - 6s 93us/step - loss: 0.0076 - acc: 0.9978\n",
            "Epoch 17/20\n",
            "60000/60000 [==============================] - 6s 93us/step - loss: 0.0084 - acc: 0.9974\n",
            "Epoch 18/20\n",
            "60000/60000 [==============================] - 6s 93us/step - loss: 0.0105 - acc: 0.9968\n",
            "Epoch 19/20\n",
            "60000/60000 [==============================] - 6s 93us/step - loss: 0.0065 - acc: 0.9980\n",
            "Epoch 20/20\n",
            "60000/60000 [==============================] - 6s 94us/step - loss: 0.0064 - acc: 0.9981\n"
          ],
          "name": "stdout"
        },
        {
          "output_type": "execute_result",
          "data": {
            "text/plain": [
              "<keras.callbacks.History at 0x7f2e24c81b70>"
            ]
          },
          "metadata": {
            "tags": []
          },
          "execution_count": 9
        }
      ]
    },
    {
      "cell_type": "code",
      "metadata": {
        "id": "4ketkQ_Df_fb",
        "colab_type": "code",
        "colab": {
          "base_uri": "https://localhost:8080/",
          "height": 53
        },
        "outputId": "a92439d1-1295-4914-e449-fc82cd688d4a"
      },
      "source": [
        "model.evaluate(x_test,y_test)"
      ],
      "execution_count": 10,
      "outputs": [
        {
          "output_type": "stream",
          "text": [
            "10000/10000 [==============================] - 0s 39us/step\n"
          ],
          "name": "stdout"
        },
        {
          "output_type": "execute_result",
          "data": {
            "text/plain": [
              "[0.09529246742048782, 0.9818]"
            ]
          },
          "metadata": {
            "tags": []
          },
          "execution_count": 10
        }
      ]
    },
    {
      "cell_type": "code",
      "metadata": {
        "id": "mGePQ4SThtAy",
        "colab_type": "code",
        "colab": {}
      },
      "source": [
        ""
      ],
      "execution_count": 0,
      "outputs": []
    }
  ]
}