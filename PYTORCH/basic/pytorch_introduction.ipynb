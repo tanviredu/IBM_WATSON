{
  "nbformat": 4,
  "nbformat_minor": 0,
  "metadata": {
    "colab": {
      "name": "pytorch_introduction.ipynb",
      "version": "0.3.2",
      "provenance": []
    },
    "kernelspec": {
      "name": "python3",
      "display_name": "Python 3"
    },
    "accelerator": "GPU"
  },
  "cells": [
    {
      "cell_type": "code",
      "metadata": {
        "id": "xzw2csoD_MVL",
        "colab_type": "code",
        "colab": {}
      },
      "source": [
        "#!pip install torch torchvision"
      ],
      "execution_count": 0,
      "outputs": []
    },
    {
      "cell_type": "code",
      "metadata": {
        "id": "imE1NNtCP3Nu",
        "colab_type": "code",
        "colab": {
          "base_uri": "https://localhost:8080/",
          "height": 107
        },
        "outputId": "55b8ec31-1812-4e34-d455-fcbfa54648d1"
      },
      "source": [
        "import torch\n",
        "import torch.nn as nn\n",
        "import torch.nn.functional as F \n",
        "from torchvision import datasets, transforms\n",
        "import seaborn as sns\n",
        "sns.set()\n",
        "import numpy as np \n",
        "import matplotlib.pyplot as plt \n",
        "import keras \n",
        "from keras.datasets import mnist\n",
        "\n",
        "(x_train, y_train), (x_test, y_test) = mnist.load_data()\n",
        "\n",
        "print(x_train.shape)\n",
        "print(x_test.shape)\n",
        "print(y_train.shape)\n",
        "print(x_test.shape)"
      ],
      "execution_count": 2,
      "outputs": [
        {
          "output_type": "stream",
          "text": [
            "Using TensorFlow backend.\n"
          ],
          "name": "stderr"
        },
        {
          "output_type": "stream",
          "text": [
            "(60000, 28, 28)\n",
            "(10000, 28, 28)\n",
            "(60000,)\n",
            "(10000, 28, 28)\n"
          ],
          "name": "stdout"
        }
      ]
    },
    {
      "cell_type": "code",
      "metadata": {
        "id": "YfH_MR0HRks1",
        "colab_type": "code",
        "colab": {}
      },
      "source": [
        "class Net(nn.Module):\n",
        "  ## constructor\n",
        "  def __init__(self):\n",
        "    super(Net,self).__init__()\n",
        "    self.fc1 = nn.Linear(28*28, 50)  ## linear model\n",
        "    self.fc1_drop = nn.Dropout(0.2)  ## dropout column 20  %\n",
        "    self.fc2 = nn.Linear(50, 50)     ## linear previous and after 50,50\n",
        "    self.fc2_drop = nn.Dropout(0.2)\n",
        "    self.fc3 = nn.Linear(50, 10)     ## final layer\n",
        "    \n",
        "    ## this is the layer information\n",
        "    \n",
        "  def forward(self,x):\n",
        "    # adding functionality\n",
        "    x = x.view(-1,28*28)\n",
        "    ## adding the rectified linear to the layer 1\n",
        "    x=F.relu(self.fc1(x))  ## ading the value to x to the layer and then apply relu\n",
        "    x=self.fc1_drop(x)\n",
        "    x=F.relu(self.fc2(x))\n",
        "    x =self.fc2_drop(x)\n",
        "    return F.log_softmax(self.fc3(x),dim=1)"
      ],
      "execution_count": 0,
      "outputs": []
    },
    {
      "cell_type": "code",
      "metadata": {
        "id": "KcXupYDrUTGj",
        "colab_type": "code",
        "colab": {
          "base_uri": "https://localhost:8080/",
          "height": 35
        },
        "outputId": "734b32ed-c756-4744-9b2f-8cd92bb35caf"
      },
      "source": [
        "if torch.cuda.is_available():\n",
        "    device = torch.device('cuda')\n",
        "else:\n",
        "    device = torch.device('cpu')\n",
        "    \n",
        "print('Using PyTorch version:', torch.__version__, ' Device:', device)"
      ],
      "execution_count": 4,
      "outputs": [
        {
          "output_type": "stream",
          "text": [
            "Using PyTorch version: 1.1.0  Device: cuda\n"
          ],
          "name": "stdout"
        }
      ]
    },
    {
      "cell_type": "code",
      "metadata": {
        "id": "Y4pU4RrnUXyp",
        "colab_type": "code",
        "colab": {}
      },
      "source": [
        "model = Net().to(device)\n",
        "optimizer = torch.optim.SGD(model.parameters(), lr=0.01, momentum=0.5)\n",
        "criterion = nn.CrossEntropyLoss()\n"
      ],
      "execution_count": 0,
      "outputs": []
    },
    {
      "cell_type": "code",
      "metadata": {
        "id": "kLd3eivuUhiQ",
        "colab_type": "code",
        "colab": {
          "base_uri": "https://localhost:8080/",
          "height": 35
        },
        "outputId": "c192b86a-7e78-444a-e656-1b9feb17bb65"
      },
      "source": [
        "if torch.cuda.is_available():\n",
        "    device = torch.device('cuda')\n",
        "else:\n",
        "    device = torch.device('cpu')\n",
        "    \n",
        "print('Using PyTorch version:', torch.__version__, ' Device:', device)\n"
      ],
      "execution_count": 6,
      "outputs": [
        {
          "output_type": "stream",
          "text": [
            "Using PyTorch version: 1.1.0  Device: cuda\n"
          ],
          "name": "stdout"
        }
      ]
    },
    {
      "cell_type": "code",
      "metadata": {
        "id": "fw2YbiKeVBEu",
        "colab_type": "code",
        "colab": {}
      },
      "source": [
        "batch_size = 32\n",
        "\n",
        "train_dataset = datasets.MNIST('./data', \n",
        "                               train=True, \n",
        "                               download=True, \n",
        "                               transform=transforms.ToTensor())\n",
        "\n",
        "validation_dataset = datasets.MNIST('./data', \n",
        "                                    train=False, \n",
        "                                    transform=transforms.ToTensor())\n",
        "\n",
        "train_loader = torch.utils.data.DataLoader(dataset=train_dataset, \n",
        "                                           batch_size=batch_size, \n",
        "                                           shuffle=True)\n",
        "\n",
        "validation_loader = torch.utils.data.DataLoader(dataset=validation_dataset, \n",
        "                                                batch_size=batch_size, \n",
        "                                                shuffle=False)\n"
      ],
      "execution_count": 0,
      "outputs": []
    },
    {
      "cell_type": "code",
      "metadata": {
        "id": "qihxZ-s0VtI-",
        "colab_type": "code",
        "colab": {
          "base_uri": "https://localhost:8080/",
          "height": 53
        },
        "outputId": "9cdd98f5-b40d-4de6-ca23-a6d014ccde7b"
      },
      "source": [
        "for (X_train, y_train) in train_loader:\n",
        "    print('X_train:', X_train.size(), 'type:', X_train.type())\n",
        "    print('y_train:', y_train.size(), 'type:', y_train.type())\n",
        "    break"
      ],
      "execution_count": 8,
      "outputs": [
        {
          "output_type": "stream",
          "text": [
            "X_train: torch.Size([32, 1, 28, 28]) type: torch.FloatTensor\n",
            "y_train: torch.Size([32]) type: torch.LongTensor\n"
          ],
          "name": "stdout"
        }
      ]
    },
    {
      "cell_type": "code",
      "metadata": {
        "id": "Jr0SXuXEVvkg",
        "colab_type": "code",
        "colab": {
          "base_uri": "https://localhost:8080/",
          "height": 114
        },
        "outputId": "68fa133a-981c-4dd8-ca18-0a6a61bf48b4"
      },
      "source": [
        "pltsize=1\n",
        "plt.figure(figsize=(10*pltsize, pltsize))\n",
        "\n",
        "for i in range(10):\n",
        "    plt.subplot(1,10,i+1)\n",
        "    plt.axis('off')\n",
        "    plt.imshow(X_train[i,:,:,:].numpy().reshape(28,28), cmap=\"gray\")\n",
        "    plt.title('Class: '+str(y_train[i].item()))"
      ],
      "execution_count": 9,
      "outputs": [
        {
          "output_type": "display_data",
          "data": {
            "image/png": "[encoded data removed]",
            "text/plain": [
              "<Figure size 720x72 with 10 Axes>"
            ]
          },
          "metadata": {
            "tags": []
          }
        }
      ]
    },
    {
      "cell_type": "code",
      "metadata": {
        "id": "M6mS9D0HVzEH",
        "colab_type": "code",
        "colab": {}
      },
      "source": [
        "def train(epoch, log_interval=200):\n",
        "    # Set model to training mode\n",
        "    model.train()\n",
        "    \n",
        "    # Loop over each batch from the training set\n",
        "    for batch_idx, (data, target) in enumerate(train_loader):\n",
        "        # Copy data to GPU if needed\n",
        "        data = data.to(device)\n",
        "        target = target.to(device)\n",
        "\n",
        "        # Zero gradient buffers\n",
        "        optimizer.zero_grad() \n",
        "        \n",
        "        # Pass data through the network\n",
        "        output = model(data)\n",
        "\n",
        "        # Calculate loss\n",
        "        loss = criterion(output, target)\n",
        "\n",
        "        # Backpropagate\n",
        "        loss.backward()\n",
        "        \n",
        "        # Update weights\n",
        "        optimizer.step()\n",
        "        \n",
        "        if batch_idx % log_interval == 0:\n",
        "            print('Train Epoch: {} [{}/{} ({:.0f}%)]\\tLoss: {:.6f}'.format(\n",
        "                epoch, batch_idx * len(data), len(train_loader.dataset),\n",
        "                100. * batch_idx / len(train_loader), loss.data.item()))"
      ],
      "execution_count": 0,
      "outputs": []
    },
    {
      "cell_type": "code",
      "metadata": {
        "id": "gk_dNaOXV5Gs",
        "colab_type": "code",
        "colab": {}
      },
      "source": [
        "def validate(loss_vector, accuracy_vector):\n",
        "    model.eval()\n",
        "    val_loss, correct = 0, 0\n",
        "    for data, target in validation_loader:\n",
        "        data = data.to(device)\n",
        "        target = target.to(device)\n",
        "        output = model(data)\n",
        "        val_loss += criterion(output, target).data.item()\n",
        "        pred = output.data.max(1)[1] # get the index of the max log-probability\n",
        "        correct += pred.eq(target.data).cpu().sum()\n",
        "\n",
        "    val_loss /= len(validation_loader)\n",
        "    loss_vector.append(val_loss)\n",
        "\n",
        "    accuracy = 100. * correct.to(torch.float32) / len(validation_loader.dataset)\n",
        "    accuracy_vector.append(accuracy)\n",
        "    \n",
        "    print('\\nValidation set: Average loss: {:.4f}, Accuracy: {}/{} ({:.0f}%)\\n'.format(\n",
        "        val_loss, correct, len(validation_loader.dataset), accuracy))"
      ],
      "execution_count": 0,
      "outputs": []
    },
    {
      "cell_type": "code",
      "metadata": {
        "id": "jbP81sJVV7vI",
        "colab_type": "code",
        "colab": {
          "base_uri": "https://localhost:8080/",
          "height": 1225
        },
        "outputId": "a046b198-4839-44de-f733-7ab236c78d77"
      },
      "source": [
        "%%time\n",
        "epochs = 5\n",
        "\n",
        "lossv, accv = [], []\n",
        "for epoch in range(1, epochs + 1):\n",
        "    train(epoch)\n",
        "    validate(lossv, accv)"
      ],
      "execution_count": 12,
      "outputs": [
        {
          "output_type": "stream",
          "text": [
            "Train Epoch: 1 [0/60000 (0%)]\tLoss: 2.326291\n",
            "Train Epoch: 1 [6400/60000 (11%)]\tLoss: 2.095009\n",
            "Train Epoch: 1 [12800/60000 (21%)]\tLoss: 1.380959\n",
            "Train Epoch: 1 [19200/60000 (32%)]\tLoss: 0.881740\n",
            "Train Epoch: 1 [25600/60000 (43%)]\tLoss: 0.690922\n",
            "Train Epoch: 1 [32000/60000 (53%)]\tLoss: 0.582633\n",
            "Train Epoch: 1 [38400/60000 (64%)]\tLoss: 0.530609\n",
            "Train Epoch: 1 [44800/60000 (75%)]\tLoss: 0.463946\n",
            "Train Epoch: 1 [51200/60000 (85%)]\tLoss: 0.466501\n",
            "Train Epoch: 1 [57600/60000 (96%)]\tLoss: 0.456487\n",
            "\n",
            "Validation set: Average loss: 0.3620, Accuracy: 9002/10000 (90%)\n",
            "\n",
            "Train Epoch: 2 [0/60000 (0%)]\tLoss: 0.808021\n",
            "Train Epoch: 2 [6400/60000 (11%)]\tLoss: 0.621670\n",
            "Train Epoch: 2 [12800/60000 (21%)]\tLoss: 0.275245\n",
            "Train Epoch: 2 [19200/60000 (32%)]\tLoss: 0.368286\n",
            "Train Epoch: 2 [25600/60000 (43%)]\tLoss: 0.484802\n",
            "Train Epoch: 2 [32000/60000 (53%)]\tLoss: 0.615639\n",
            "Train Epoch: 2 [38400/60000 (64%)]\tLoss: 0.247310\n",
            "Train Epoch: 2 [44800/60000 (75%)]\tLoss: 0.716126\n",
            "Train Epoch: 2 [51200/60000 (85%)]\tLoss: 0.360720\n",
            "Train Epoch: 2 [57600/60000 (96%)]\tLoss: 0.308680\n",
            "\n",
            "Validation set: Average loss: 0.2638, Accuracy: 9208/10000 (92%)\n",
            "\n",
            "Train Epoch: 3 [0/60000 (0%)]\tLoss: 0.317980\n",
            "Train Epoch: 3 [6400/60000 (11%)]\tLoss: 0.201986\n",
            "Train Epoch: 3 [12800/60000 (21%)]\tLoss: 0.318392\n",
            "Train Epoch: 3 [19200/60000 (32%)]\tLoss: 0.359029\n",
            "Train Epoch: 3 [25600/60000 (43%)]\tLoss: 0.303665\n",
            "Train Epoch: 3 [32000/60000 (53%)]\tLoss: 0.458019\n",
            "Train Epoch: 3 [38400/60000 (64%)]\tLoss: 0.339768\n",
            "Train Epoch: 3 [44800/60000 (75%)]\tLoss: 0.239817\n",
            "Train Epoch: 3 [51200/60000 (85%)]\tLoss: 0.486745\n",
            "Train Epoch: 3 [57600/60000 (96%)]\tLoss: 0.129122\n",
            "\n",
            "Validation set: Average loss: 0.2100, Accuracy: 9385/10000 (94%)\n",
            "\n",
            "Train Epoch: 4 [0/60000 (0%)]\tLoss: 0.226425\n",
            "Train Epoch: 4 [6400/60000 (11%)]\tLoss: 0.679847\n",
            "Train Epoch: 4 [12800/60000 (21%)]\tLoss: 0.144922\n",
            "Train Epoch: 4 [19200/60000 (32%)]\tLoss: 0.756314\n",
            "Train Epoch: 4 [25600/60000 (43%)]\tLoss: 0.426569\n",
            "Train Epoch: 4 [32000/60000 (53%)]\tLoss: 0.134836\n",
            "Train Epoch: 4 [38400/60000 (64%)]\tLoss: 0.178588\n",
            "Train Epoch: 4 [44800/60000 (75%)]\tLoss: 0.979327\n",
            "Train Epoch: 4 [51200/60000 (85%)]\tLoss: 0.143711\n",
            "Train Epoch: 4 [57600/60000 (96%)]\tLoss: 0.075930\n",
            "\n",
            "Validation set: Average loss: 0.1801, Accuracy: 9480/10000 (95%)\n",
            "\n",
            "Train Epoch: 5 [0/60000 (0%)]\tLoss: 0.393515\n",
            "Train Epoch: 5 [6400/60000 (11%)]\tLoss: 0.340010\n",
            "Train Epoch: 5 [12800/60000 (21%)]\tLoss: 0.504402\n",
            "Train Epoch: 5 [19200/60000 (32%)]\tLoss: 0.226580\n",
            "Train Epoch: 5 [25600/60000 (43%)]\tLoss: 0.196558\n",
            "Train Epoch: 5 [32000/60000 (53%)]\tLoss: 0.303004\n",
            "Train Epoch: 5 [38400/60000 (64%)]\tLoss: 0.112435\n",
            "Train Epoch: 5 [44800/60000 (75%)]\tLoss: 0.101312\n",
            "Train Epoch: 5 [51200/60000 (85%)]\tLoss: 0.348445\n",
            "Train Epoch: 5 [57600/60000 (96%)]\tLoss: 0.200332\n",
            "\n",
            "Validation set: Average loss: 0.1610, Accuracy: 9510/10000 (95%)\n",
            "\n",
            "CPU times: user 40.2 s, sys: 1.04 s, total: 41.2 s\n",
            "Wall time: 41.5 s\n"
          ],
          "name": "stdout"
        }
      ]
    },
    {
      "cell_type": "code",
      "metadata": {
        "id": "4481-0F_V-DA",
        "colab_type": "code",
        "colab": {}
      },
      "source": [
        ""
      ],
      "execution_count": 0,
      "outputs": []
    }
  ]
}