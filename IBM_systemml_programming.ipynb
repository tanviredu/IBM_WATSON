{
 "cells": [
  {
   "cell_type": "code",
   "execution_count": 1,
   "metadata": {},
   "outputs": [
    {
     "name": "stdout",
     "output_type": "stream",
     "text": [
      "Waiting for a Spark session to start...\n",
      "Spark Initialization Done! ApplicationId = app-20190601181525-0000\n",
      "KERNEL_ID = b330ce80-0be9-41f2-aac2-c44cc4d0c4e2\n",
      "Collecting https://github.com/niketanpansare/future_of_data/raw/master/systemml-1.3.0-SNAPSHOT-python.tar.gz\n",
      "\u001b[?25l  Downloading https://github.com/niketanpansare/future_of_data/raw/master/systemml-1.3.0-SNAPSHOT-python.tar.gz (9.9MB)\n",
      "\u001b[K    100% |################################| 9.9MB 1.3MB/s eta 0:00:01\n",
      "\u001b[?25hCollecting numpy>=1.8.2 (from systemml==1.3.0)\n",
      "\u001b[?25l  Downloading https://files.pythonhosted.org/packages/87/2d/e4656149cbadd3a8a0369fcd1a9c7d61cc7b87b3903b85389c70c989a696/numpy-1.16.4-cp36-cp36m-manylinux1_x86_64.whl (17.3MB)\n",
      "\u001b[K    100% |################################| 17.3MB 1.2MB/s eta 0:00:01\n",
      "\u001b[?25hCollecting scipy>=0.15.1 (from systemml==1.3.0)\n",
      "\u001b[?25l  Downloading https://files.pythonhosted.org/packages/72/4c/5f81e7264b0a7a8bd570810f48cd346ba36faedbd2ba255c873ad556de76/scipy-1.3.0-cp36-cp36m-manylinux1_x86_64.whl (25.2MB)\n",
      "\u001b[K    100% |################################| 25.2MB 1.0MB/s eta 0:00:01\n",
      "\u001b[?25hCollecting pandas (from systemml==1.3.0)\n",
      "\u001b[?25l  Downloading https://files.pythonhosted.org/packages/19/74/e50234bc82c553fecdbd566d8650801e3fe2d6d8c8d940638e3d8a7c5522/pandas-0.24.2-cp36-cp36m-manylinux1_x86_64.whl (10.1MB)\n",
      "\u001b[K    100% |################################| 10.1MB 2.0MB/s eta 0:00:01\n",
      "\u001b[?25hCollecting scikit-learn (from systemml==1.3.0)\n",
      "\u001b[?25l  Downloading https://files.pythonhosted.org/packages/85/04/49633f490f726da6e454fddc8e938bbb5bfed2001681118d3814c219b723/scikit_learn-0.21.2-cp36-cp36m-manylinux1_x86_64.whl (6.7MB)\n",
      "\u001b[K    100% |################################| 6.7MB 2.7MB/s eta 0:00:01\n",
      "\u001b[?25hCollecting Pillow>=2.0.0 (from systemml==1.3.0)\n",
      "\u001b[?25l  Downloading https://files.pythonhosted.org/packages/d2/c2/f84b1e57416755e967236468dcfb0fad7fd911f707185efc4ba8834a1a94/Pillow-6.0.0-cp36-cp36m-manylinux1_x86_64.whl (2.0MB)\n",
      "\u001b[K    100% |################################| 2.0MB 3.6MB/s eta 0:00:01\n",
      "\u001b[?25hCollecting python-dateutil>=2.5.0 (from pandas->systemml==1.3.0)\n",
      "\u001b[?25l  Downloading https://files.pythonhosted.org/packages/41/17/c62faccbfbd163c7f57f3844689e3a78bae1f403648a6afb1d0866d87fbb/python_dateutil-2.8.0-py2.py3-none-any.whl (226kB)\n",
      "\u001b[K    100% |################################| 235kB 5.6MB/s eta 0:00:01\n",
      "\u001b[?25hCollecting pytz>=2011k (from pandas->systemml==1.3.0)\n",
      "\u001b[?25l  Downloading https://files.pythonhosted.org/packages/3d/73/fe30c2daaaa0713420d0382b16fbb761409f532c56bdcc514bf7b6262bb6/pytz-2019.1-py2.py3-none-any.whl (510kB)\n",
      "\u001b[K    100% |################################| 512kB 5.3MB/s eta 0:00:01\n",
      "\u001b[?25hCollecting joblib>=0.11 (from scikit-learn->systemml==1.3.0)\n",
      "\u001b[?25l  Downloading https://files.pythonhosted.org/packages/cd/c1/50a758e8247561e58cb87305b1e90b171b8c767b15b12a1734001f41d356/joblib-0.13.2-py2.py3-none-any.whl (278kB)\n",
      "\u001b[K    100% |################################| 286kB 5.4MB/s eta 0:00:01\n",
      "\u001b[?25hCollecting six>=1.5 (from python-dateutil>=2.5.0->pandas->systemml==1.3.0)\n",
      "  Downloading https://files.pythonhosted.org/packages/73/fb/00a976f728d0d1fecfe898238ce23f502a721c0ac0ecfedb80e0d88c64e9/six-1.12.0-py2.py3-none-any.whl\n",
      "Building wheels for collected packages: systemml\n",
      "  Building wheel for systemml (setup.py) ... \u001b[?25ldone\n",
      "\u001b[?25h  Stored in directory: /home/spark/shared/.cache/pip/wheels/bf/b5/b7/b24122e11428907d1c632fc2e6fb0c7b85bba047f8dd263fde\n",
      "Successfully built systemml\n",
      "\u001b[31mtensorflow 1.13.1 requires tensorboard<1.14.0,>=1.13.0, which is not installed.\u001b[0m\n",
      "Installing collected packages: numpy, scipy, six, python-dateutil, pytz, pandas, joblib, scikit-learn, Pillow, systemml\n",
      "Successfully installed Pillow-6.0.0 joblib-0.13.2 numpy-1.16.4 pandas-0.24.2 python-dateutil-2.8.0 pytz-2019.1 scikit-learn-0.21.2 scipy-1.3.0 six-1.12.0 systemml-1.3.0\n"
     ]
    }
   ],
   "source": [
    "#! pip install --upgrade https://github.com/niketanpansare/future_of_data/raw/master/systemml-1.3.0-SNAPSHOT-python.tar.gz"
   ]
  },
  {
   "cell_type": "code",
   "execution_count": 4,
   "metadata": {},
   "outputs": [
    {
     "name": "stdout",
     "output_type": "stream",
     "text": [
      "Collecting python-imap\n",
      "  Downloading https://files.pythonhosted.org/packages/ea/57/4bda0520bf5cad16eba0078f55e4a8a09c8dd354e641de96b3ccd9c097ea/python-imap-1.0.0.tar.gz\n",
      "Building wheels for collected packages: python-imap\n",
      "  Building wheel for python-imap (setup.py) ... \u001b[?25ldone\n",
      "\u001b[?25h  Stored in directory: /home/spark/shared/.cache/pip/wheels/f2/61/7b/d853b983244afa4eb6ea30581ee0e7c6f858a0065c2640362e\n",
      "Successfully built python-imap\n",
      "Installing collected packages: python-imap\n",
      "Successfully installed python-imap-1.0.0\n"
     ]
    }
   ],
   "source": [
    "#!ln -s -f /home/spark/shared/user-libs/python3/systemml/systemml-java/systemml-1.3.0-SNAPSHOT-extra.jar ~/user-libs/spark2/systemml-1.3.0-SNAPSHOT-extra.jar\n",
    "#!ln -s -f /home/spark/shared/user-libs/python3/systemml/systemml-java/systemml-1.3.0-SNAPSHOT.jar ~/user-libs/spark2/systemml-1.3.0-SNAPSHOT.jar\n",
    "#!pip install mlxtend\n",
    "!pip install python-imap"
   ]
  },
  {
   "cell_type": "code",
   "execution_count": 6,
   "metadata": {},
   "outputs": [
    {
     "name": "stdout",
     "output_type": "stream",
     "text": [
      "_________________________________________________________________\n",
      "Layer (type)                 Output Shape              Param #   \n",
      "=================================================================\n",
      "conv2d_5 (Conv2D)            (None, 32, 28, 28)        832       \n",
      "_________________________________________________________________\n",
      "max_pooling2d_5 (MaxPooling2 (None, 32, 14, 14)        0         \n",
      "_________________________________________________________________\n",
      "conv2d_6 (Conv2D)            (None, 64, 14, 14)        51264     \n",
      "_________________________________________________________________\n",
      "max_pooling2d_6 (MaxPooling2 (None, 64, 7, 7)          0         \n",
      "_________________________________________________________________\n",
      "flatten_3 (Flatten)          (None, 3136)              0         \n",
      "_________________________________________________________________\n",
      "dense_5 (Dense)              (None, 512)               1606144   \n",
      "_________________________________________________________________\n",
      "dropout_3 (Dropout)          (None, 512)               0         \n",
      "_________________________________________________________________\n",
      "dense_6 (Dense)              (None, 10)                5130      \n",
      "=================================================================\n",
      "Total params: 1,663,370\n",
      "Trainable params: 1,663,370\n",
      "Non-trainable params: 0\n",
      "_________________________________________________________________\n"
     ]
    }
   ],
   "source": [
    "# Disable Tensorflow from using GPU to avoid unnecessary evictions by SystemML runtime\n",
    "import os\n",
    "os.environ['CUDA_DEVICE_ORDER'] = 'PCI_BUS_ID'\n",
    "os.environ['CUDA_VISIBLE_DEVICES'] = ''\n",
    "\n",
    "# Import dependencies\n",
    "from mlxtend.data import mnist_data\n",
    "import numpy as np\n",
    "from sklearn.utils import shuffle\n",
    "from keras.models import Sequential\n",
    "from keras.layers import Input, Dense, Conv2D, MaxPooling2D, Dropout,Flatten\n",
    "from keras import backend as K\n",
    "from keras.models import Model\n",
    "from keras.optimizers import SGD\n",
    "from systemml.mllearn import Keras2DML\n",
    "# Set channel first layer\n",
    "K.set_image_data_format('channels_first')\n",
    "\n",
    "# Download the MNIST dataset\n",
    "X, y = mnist_data()\n",
    "X, y = shuffle(X, y)\n",
    "\n",
    "# Split the data into training and test\n",
    "n_samples = len(X)\n",
    "X_train = X[:int(.9 * n_samples)]\n",
    "y_train = y[:int(.9 * n_samples)]\n",
    "X_test = X[int(.9 * n_samples):]\n",
    "y_test = y[int(.9 * n_samples):]\n",
    "\n",
    "# Define Lenet in Keras\n",
    "keras_model = Sequential()\n",
    "keras_model.add(Conv2D(32, kernel_size=(5, 5), activation='relu', input_shape=(1,28,28), padding='same'))\n",
    "keras_model.add(MaxPooling2D(pool_size=(2, 2)))\n",
    "keras_model.add(Conv2D(64, (5, 5), activation='relu', padding='same'))\n",
    "keras_model.add(MaxPooling2D(pool_size=(2, 2)))\n",
    "keras_model.add(Flatten())\n",
    "keras_model.add(Dense(512, activation='relu'))\n",
    "keras_model.add(Dropout(0.5))\n",
    "keras_model.add(Dense(10, activation='softmax'))\n",
    "keras_model.compile(loss='categorical_crossentropy', optimizer=SGD(lr=0.01, decay=1e-6, momentum=0.9, nesterov=True))\n",
    "keras_model.summary()\n",
    "\n",
    "# Scale the input features\n",
    "scale = 0.00390625\n",
    "X_train = X_train*scale\n",
    "X_test = X_test*scale\n",
    "\n"
   ]
  },
  {
   "cell_type": "code",
   "execution_count": 9,
   "metadata": {},
   "outputs": [],
   "source": [
    "from systemml.mllearn import LogisticRegression"
   ]
  },
  {
   "cell_type": "code",
   "execution_count": 11,
   "metadata": {},
   "outputs": [],
   "source": [
    "lr = LogisticRegression(spark)"
   ]
  },
  {
   "cell_type": "code",
   "execution_count": 12,
   "metadata": {},
   "outputs": [
    {
     "name": "stdout",
     "output_type": "stream",
     "text": [
      "\n",
      "Welcome to Apache SystemML!\n",
      "Version 1.3.0-SNAPSHOT\n",
      "BEGIN MULTINOMIAL LOGISTIC REGRESSION SCRIPT\n",
      "Reading X...\n",
      "Reading Y...\n",
      "-- Initially:  Objective = 10361.632918473206,  Gradient Norm = 4594.635433166934,  Trust Delta = 0.9415496143419578\n",
      "-- Outer Iteration 1: Had 1 CG iterations, trust bound REACHED\n",
      "   -- Obj.Reduction:  Actual = 3132.275489341813,  Predicted = 3177.5342460297334  (A/P: 0.9858),  Trust Delta = 1.7059852709010621\n",
      "   -- New Objective = 7229.357429131393,  Beta Change Norm = 0.9415496143419577,  Gradient Norm = 4157.0562558858\n",
      " \n",
      "-- Outer Iteration 2: Had 3 CG iterations, trust bound REACHED\n",
      "   -- Obj.Reduction:  Actual = 2792.9810290719834,  Predicted = 3049.4211020466314  (A/P: 0.9159),  Trust Delta = 1.7059852709010621\n",
      "   -- New Objective = 4436.376400059409,  Beta Change Norm = 1.7059852709010621,  Gradient Norm = 3622.7659629595482\n",
      " \n",
      "-- Outer Iteration 3: Had 3 CG iterations, trust bound REACHED\n",
      "   -- Obj.Reduction:  Actual = 1564.6880462436015,  Predicted = 1447.214562921914  (A/P: 1.0812),  Trust Delta = 2.0677372243090324\n",
      "   -- New Objective = 2871.6883538158077,  Beta Change Norm = 1.7059852709010623,  Gradient Norm = 1445.7841958325346\n",
      " \n",
      "-- Outer Iteration 4: Had 6 CG iterations, trust bound REACHED\n",
      "   -- Obj.Reduction:  Actual = 914.8389855123046,  Predicted = 745.8517682087833  (A/P: 1.2266),  Trust Delta = 2.8432603172629527\n",
      "   -- New Objective = 1956.849368303503,  Beta Change Norm = 2.0677372243090324,  Gradient Norm = 642.7156685446092\n",
      " \n",
      "-- Outer Iteration 5: Had 6 CG iterations, trust bound REACHED\n",
      "   -- Obj.Reduction:  Actual = 509.5850115626199,  Predicted = 414.42962655010643  (A/P: 1.2296),  Trust Delta = 3.881270020600761\n",
      "   -- New Objective = 1447.2643567408832,  Beta Change Norm = 2.8432603172629527,  Gradient Norm = 244.69542745428427\n",
      " \n",
      "-- Outer Iteration 6: Had 7 CG iterations, trust bound REACHED\n",
      "   -- Obj.Reduction:  Actual = 293.4785017533866,  Predicted = 255.29888345618951  (A/P: 1.1495),  Trust Delta = 4.817672927263455\n",
      "   -- New Objective = 1153.7858549874966,  Beta Change Norm = 3.881270020600761,  Gradient Norm = 287.3774620020323\n",
      " \n",
      "-- Outer Iteration 7: Had 10 CG iterations, trust bound REACHED\n",
      "   -- Obj.Reduction:  Actual = 212.45145276193682,  Predicted = 193.96947336984914  (A/P: 1.0953),  Trust Delta = 5.679235357131076\n",
      "   -- New Objective = 941.3344022255598,  Beta Change Norm = 4.817672927263455,  Gradient Norm = 161.14095676969967\n",
      " \n",
      "-- Outer Iteration 8: Had 13 CG iterations, trust bound REACHED\n",
      "   -- Obj.Reduction:  Actual = 143.84807091628613,  Predicted = 133.01626954189157  (A/P: 1.0814),  Trust Delta = 6.494338348901098\n",
      "   -- New Objective = 797.4863313092736,  Beta Change Norm = 5.679235357131076,  Gradient Norm = 65.82742284634574\n",
      " \n",
      "-- Outer Iteration 9: Had 18 CG iterations, trust bound REACHED\n",
      "   -- Obj.Reduction:  Actual = 71.20932687650213,  Predicted = 68.44814395927231  (A/P: 1.0403),  Trust Delta = 6.774412030581969\n",
      "   -- New Objective = 726.2770044327715,  Beta Change Norm = 6.494338348901098,  Gradient Norm = 22.725552431972357\n",
      " \n",
      "-- Outer Iteration 10: Had 35 CG iterations\n",
      "   -- Obj.Reduction:  Actual = 9.588768182164017,  Predicted = 9.483586232387845  (A/P: 1.0111),  Trust Delta = 6.774412030581969\n",
      "   -- New Objective = 716.6882362506075,  Beta Change Norm = 3.0815992218800785,  Gradient Norm = 3.2228212280516724\n",
      " \n",
      "-- Outer Iteration 11: Had 64 CG iterations\n",
      "   -- Obj.Reduction:  Actual = 0.60191719877173,  Predicted = 0.593838078176024  (A/P: 1.0136),  Trust Delta = 6.774412030581969\n",
      "   -- New Objective = 716.0863190518357,  Beta Change Norm = 1.7250755654737346,  Gradient Norm = 0.35107323814940744\n",
      " \n",
      "-- Outer Iteration 12: Had 51 CG iterations\n",
      "   -- Obj.Reduction:  Actual = 0.004410000629604838,  Predicted = 0.004407044626367345  (A/P: 1.0007),  Trust Delta = 6.774412030581969\n",
      "   -- New Objective = 716.0819090512061,  Beta Change Norm = 0.09233844341968714,  Gradient Norm = 0.03381192009778026\n",
      " \n",
      "-- Outer Iteration 13: Had 69 CG iterations\n",
      "   -- Obj.Reduction:  Actual = 1.2354455952845456E-4,  Predicted = 1.235418751607271E-4  (A/P: 1.0),  Trust Delta = 6.774412030581969\n",
      "   -- New Objective = 716.0817855066466,  Beta Change Norm = 0.026383466073591145,  Gradient Norm = 0.002707187458825672\n",
      "Termination / Convergence condition satisfied.\n",
      "SystemML Statistics:\n",
      "Total execution time:\t\t7.951 sec.\n",
      "Number of executed Spark inst:\t2.\n",
      "\n",
      "\n"
     ]
    },
    {
     "data": {
      "text/plain": [
       "logReg"
      ]
     },
     "execution_count": 12,
     "metadata": {},
     "output_type": "execute_result"
    }
   ],
   "source": [
    "lr.fit(X_train,y_train)"
   ]
  },
  {
   "cell_type": "code",
   "execution_count": 13,
   "metadata": {},
   "outputs": [
    {
     "name": "stdout",
     "output_type": "stream",
     "text": [
      "SystemML Statistics:\n",
      "Total execution time:\t\t0.006 sec.\n",
      "Number of executed Spark inst:\t0.\n",
      "\n",
      "\n"
     ]
    },
    {
     "name": "stderr",
     "output_type": "stream",
     "text": [
      "/home/spark/shared/user-libs/python3/sklearn/preprocessing/label.py:273: DataConversionWarning: A column-vector y was passed when a 1d array was expected. Please change the shape of y to (n_samples, ), for example using ravel().\n",
      "  y = column_or_1d(y, warn=True)\n"
     ]
    },
    {
     "data": {
      "text/plain": [
       "0.906"
      ]
     },
     "execution_count": 13,
     "metadata": {},
     "output_type": "execute_result"
    }
   ],
   "source": [
    "lr.score(X_test,y_test)"
   ]
  },
  {
   "cell_type": "code",
   "execution_count": 17,
   "metadata": {},
   "outputs": [
    {
     "name": "stdout",
     "output_type": "stream",
     "text": [
      "SystemML Statistics:\n",
      "Total execution time:\t\t0.005 sec.\n",
      "Number of executed Spark inst:\t0.\n",
      "\n",
      "\n"
     ]
    },
    {
     "name": "stderr",
     "output_type": "stream",
     "text": [
      "/home/spark/shared/user-libs/python3/sklearn/preprocessing/label.py:273: DataConversionWarning: A column-vector y was passed when a 1d array was expected. Please change the shape of y to (n_samples, ), for example using ravel().\n",
      "  y = column_or_1d(y, warn=True)\n"
     ]
    }
   ],
   "source": [
    "prediction=lr.predict(X_test)"
   ]
  },
  {
   "cell_type": "code",
   "execution_count": 18,
   "metadata": {},
   "outputs": [],
   "source": [
    "ans = sum(prediction==y_test)"
   ]
  },
  {
   "cell_type": "code",
   "execution_count": 19,
   "metadata": {},
   "outputs": [
    {
     "data": {
      "text/plain": [
       "453"
      ]
     },
     "execution_count": 19,
     "metadata": {},
     "output_type": "execute_result"
    }
   ],
   "source": [
    "ans"
   ]
  },
  {
   "cell_type": "code",
   "execution_count": 21,
   "metadata": {},
   "outputs": [
    {
     "data": {
      "text/plain": [
       "500"
      ]
     },
     "execution_count": 21,
     "metadata": {},
     "output_type": "execute_result"
    }
   ],
   "source": [
    "len(y_test)"
   ]
  },
  {
   "cell_type": "code",
   "execution_count": 23,
   "metadata": {},
   "outputs": [],
   "source": [
    "accuracy = (ans/len(y_test))*100"
   ]
  },
  {
   "cell_type": "code",
   "execution_count": 24,
   "metadata": {},
   "outputs": [
    {
     "data": {
      "text/plain": [
       "90.60000000000001"
      ]
     },
     "execution_count": 24,
     "metadata": {},
     "output_type": "execute_result"
    }
   ],
   "source": [
    "accuracy"
   ]
  },
  {
   "cell_type": "code",
   "execution_count": 25,
   "metadata": {},
   "outputs": [],
   "source": [
    "from sklearn import datasets"
   ]
  },
  {
   "cell_type": "code",
   "execution_count": 26,
   "metadata": {},
   "outputs": [],
   "source": [
    "data1 = datasets.load_iris()"
   ]
  },
  {
   "cell_type": "code",
   "execution_count": 27,
   "metadata": {},
   "outputs": [],
   "source": [
    "data2 = datasets.load_diabetes()"
   ]
  },
  {
   "cell_type": "code",
   "execution_count": 28,
   "metadata": {},
   "outputs": [],
   "source": [
    "data3 = datasets.load_breast_cancer()"
   ]
  },
  {
   "cell_type": "code",
   "execution_count": 29,
   "metadata": {},
   "outputs": [],
   "source": [
    "X1 = data1.data\n",
    "X2 = data2.data\n",
    "X3 = data3.data"
   ]
  },
  {
   "cell_type": "code",
   "execution_count": 30,
   "metadata": {},
   "outputs": [],
   "source": [
    "y1 = data1.target\n",
    "y2 = data2.target\n",
    "y3 = data3.target"
   ]
  },
  {
   "cell_type": "code",
   "execution_count": 31,
   "metadata": {},
   "outputs": [],
   "source": [
    "from sklearn.model_selection import train_test_split"
   ]
  },
  {
   "cell_type": "code",
   "execution_count": 32,
   "metadata": {},
   "outputs": [],
   "source": [
    "x_train1,x_test1,y_train1,y_test1 = train_test_split(X1,y1)\n",
    "x_train2,x_test2,y_train2,y_test2 = train_test_split(X2,y2)\n",
    "x_train3,x_test3,y_train3,y_test3 = train_test_split(X3,y3)"
   ]
  },
  {
   "cell_type": "code",
   "execution_count": 33,
   "metadata": {},
   "outputs": [],
   "source": [
    "from systemml.mllearn import LogisticRegression"
   ]
  },
  {
   "cell_type": "code",
   "execution_count": 34,
   "metadata": {},
   "outputs": [],
   "source": [
    "lg1 = LogisticRegression(spark)\n",
    "lg2 = LogisticRegression(spark)\n",
    "lg3 = LogisticRegression(spark)"
   ]
  },
  {
   "cell_type": "code",
   "execution_count": 35,
   "metadata": {},
   "outputs": [
    {
     "name": "stdout",
     "output_type": "stream",
     "text": [
      "BEGIN MULTINOMIAL LOGISTIC REGRESSION SCRIPT\n",
      "Reading X...\n",
      "Reading Y...\n",
      "-- Initially:  Objective = 123.04457633082828,  Gradient Norm = 102.70108189411745,  Trust Delta = 0.1002167023689846\n",
      "-- Outer Iteration 1: Had 1 CG iterations, trust bound REACHED\n",
      "   -- Obj.Reduction:  Actual = 6.786774483145891,  Predicted = 6.477411741655935  (A/P: 1.0478),  Trust Delta = 0.14711745653882796\n",
      "   -- New Objective = 116.25780184768239,  Beta Change Norm = 0.10021670236898458,  Gradient Norm = 86.30157193331232\n",
      " \n",
      "-- Outer Iteration 2: Had 2 CG iterations, trust bound REACHED\n",
      "   -- Obj.Reduction:  Actual = 7.6669055085015145,  Predicted = 7.556307437242339  (A/P: 1.0146),  Trust Delta = 0.18986958284696331\n",
      "   -- New Objective = 108.59089633918087,  Beta Change Norm = 0.147117456538828,  Gradient Norm = 99.96760950841876\n",
      " \n",
      "-- Outer Iteration 3: Had 2 CG iterations, trust bound REACHED\n",
      "   -- Obj.Reduction:  Actual = 11.181578571060129,  Predicted = 11.24465342733129  (A/P: 0.9944),  Trust Delta = 0.3155653341431042\n",
      "   -- New Objective = 97.40931776812074,  Beta Change Norm = 0.1898695828469633,  Gradient Norm = 68.57215827100342\n",
      " \n",
      "-- Outer Iteration 4: Had 2 CG iterations, trust bound REACHED\n",
      "   -- Obj.Reduction:  Actual = 13.690998770895135,  Predicted = 13.577168105880434  (A/P: 1.0084),  Trust Delta = 0.6357405933167916\n",
      "   -- New Objective = 83.71831899722561,  Beta Change Norm = 0.3155653341431042,  Gradient Norm = 52.85914366090562\n",
      " \n",
      "-- Outer Iteration 5: Had 3 CG iterations, trust bound REACHED\n",
      "   -- Obj.Reduction:  Actual = 15.242932411775541,  Predicted = 13.788321391684041  (A/P: 1.1055),  Trust Delta = 0.8206908264853955\n",
      "   -- New Objective = 68.47538658545007,  Beta Change Norm = 0.6357405933167916,  Gradient Norm = 46.74090683770379\n",
      " \n",
      "-- Outer Iteration 6: Had 3 CG iterations, trust bound REACHED\n",
      "   -- Obj.Reduction:  Actual = 13.16666104334427,  Predicted = 12.027377715605056  (A/P: 1.0947),  Trust Delta = 1.4535500506887802\n",
      "   -- New Objective = 55.3087255421058,  Beta Change Norm = 0.8206908264853954,  Gradient Norm = 14.555103014936035\n",
      " \n",
      "-- Outer Iteration 7: Had 3 CG iterations, trust bound REACHED\n",
      "   -- Obj.Reduction:  Actual = 10.536034111468403,  Predicted = 9.356808487537522  (A/P: 1.126),  Trust Delta = 2.1329877612851367\n",
      "   -- New Objective = 44.772691430637394,  Beta Change Norm = 1.4535500506887802,  Gradient Norm = 8.291944482838206\n",
      " \n",
      "-- Outer Iteration 8: Had 5 CG iterations, trust bound REACHED\n",
      "   -- Obj.Reduction:  Actual = 5.147908606076548,  Predicted = 4.643191242418731  (A/P: 1.1087),  Trust Delta = 2.69645445066471\n",
      "   -- New Objective = 39.624782824560846,  Beta Change Norm = 2.1329877612851362,  Gradient Norm = 3.5659635858451537\n",
      " \n",
      "-- Outer Iteration 9: Had 5 CG iterations, trust bound REACHED\n",
      "   -- Obj.Reduction:  Actual = 1.9736519475428835,  Predicted = 1.8847622670763169  (A/P: 1.0472),  Trust Delta = 3.760230592580565\n",
      "   -- New Objective = 37.65113087701796,  Beta Change Norm = 2.69645445066471,  Gradient Norm = 1.7134618907700345\n",
      " \n",
      "-- Outer Iteration 10: Had 5 CG iterations, trust bound REACHED\n",
      "   -- Obj.Reduction:  Actual = 2.3485444745104758,  Predicted = 2.3609766050082586  (A/P: 0.9947),  Trust Delta = 5.339931226904989\n",
      "   -- New Objective = 35.30258640250749,  Beta Change Norm = 3.760230592580565,  Gradient Norm = 1.0401769377857235\n",
      " \n",
      "-- Outer Iteration 11: Had 5 CG iterations, trust bound REACHED\n",
      "   -- Obj.Reduction:  Actual = 1.887066807554902,  Predicted = 1.8513583035994854  (A/P: 1.0193),  Trust Delta = 6.372181082400406\n",
      "   -- New Objective = 33.415519594952585,  Beta Change Norm = 5.339931226904989,  Gradient Norm = 1.757962376572206\n",
      " \n",
      "-- Outer Iteration 12: Had 6 CG iterations, trust bound REACHED\n",
      "   -- Obj.Reduction:  Actual = 1.4612372746376394,  Predicted = 1.4059028433640552  (A/P: 1.0394),  Trust Delta = 6.775539190471578\n",
      "   -- New Objective = 31.954282320314945,  Beta Change Norm = 6.372181082400406,  Gradient Norm = 0.9339840296231322\n",
      " \n",
      "-- Outer Iteration 13: Had 9 CG iterations\n",
      "   -- Obj.Reduction:  Actual = 0.3396803018447443,  Predicted = 0.3308796310142418  (A/P: 1.0266),  Trust Delta = 6.775539190471578\n",
      "   -- New Objective = 31.6146020184702,  Beta Change Norm = 2.881626132087026,  Gradient Norm = 0.12225310574369029\n",
      " \n",
      "-- Outer Iteration 14: Had 7 CG iterations\n",
      "   -- Obj.Reduction:  Actual = 0.0037291056326580474,  Predicted = 0.003721928579233014  (A/P: 1.0019),  Trust Delta = 6.775539190471578\n",
      "   -- New Objective = 31.610872912837543,  Beta Change Norm = 0.30452112228225553,  Gradient Norm = 0.009725271103292606\n",
      " \n",
      "-- Outer Iteration 15: Had 10 CG iterations\n",
      "   -- Obj.Reduction:  Actual = 4.810211552168653E-4,  Predicted = 4.80347206186789E-4  (A/P: 1.0014),  Trust Delta = 6.775539190471578\n",
      "   -- New Objective = 31.610391891682326,  Beta Change Norm = 0.1735626524161848,  Gradient Norm = 1.4839449884313603E-4\n",
      " \n",
      "-- Outer Iteration 16: Had 7 CG iterations\n",
      "   -- Obj.Reduction:  Actual = 5.829409843727262E-9,  Predicted = 5.829392691082568E-9  (A/P: 1.0),  Trust Delta = 6.775539190471578\n",
      "   -- New Objective = 31.610391885852916,  Beta Change Norm = 2.729576640526225E-4,  Gradient Norm = 6.957613010718397E-6\n",
      "Termination / Convergence condition satisfied.\n",
      "SystemML Statistics:\n",
      "Total execution time:\t\t0.800 sec.\n",
      "Number of executed Spark inst:\t2.\n",
      "\n",
      "\n",
      "BEGIN MULTINOMIAL LOGISTIC REGRESSION SCRIPT\n",
      "Reading X...\n",
      "Reading Y...\n",
      "-- Initially:  Objective = 1729.7221489990698,  Gradient Norm = 12.809770767303286,  Trust Delta = 1.573742096917669\n",
      "-- Outer Iteration 1: Had 1 CG iterations, trust bound REACHED\n",
      "   -- Obj.Reduction:  Actual = 17.9248466003271,  Predicted = 18.00626245677224  (A/P: 0.9955),  Trust Delta = 6.294968387670676\n",
      "   -- New Objective = 1711.7973023987427,  Beta Change Norm = 1.5737420969176692,  Gradient Norm = 9.924692760142488\n",
      " \n",
      "-- Outer Iteration 2: Had 2 CG iterations\n",
      "   -- Obj.Reduction:  Actual = 25.9566752346459,  Predicted = 26.75230093715076  (A/P: 0.9703),  Trust Delta = 6.294968387670676\n",
      "   -- New Objective = 1685.8406271640968,  Beta Change Norm = 5.504630440268985,  Gradient Norm = 1.6419389572575018\n",
      " \n",
      "-- Outer Iteration 3: Had 3 CG iterations\n",
      "   -- Obj.Reduction:  Actual = 0.5090387761888451,  Predicted = 0.5092076888654735  (A/P: 0.9997),  Trust Delta = 6.294968387670676\n",
      "   -- New Objective = 1685.331588387908,  Beta Change Norm = 0.6997375738795721,  Gradient Norm = 0.14067503208971463\n",
      " \n",
      "-- Outer Iteration 4: Had 6 CG iterations\n",
      "   -- Obj.Reduction:  Actual = 0.11629107719500098,  Predicted = 0.10512618819433624  (A/P: 1.1062),  Trust Delta = 6.294968387670676\n",
      "   -- New Objective = 1685.215297310713,  Beta Change Norm = 4.9375509603272585,  Gradient Norm = 0.008462849597149916\n",
      " \n",
      "-- Outer Iteration 5: Had 9 CG iterations\n",
      "   -- Obj.Reduction:  Actual = 0.003835117893459028,  Predicted = 0.0037348554483548533  (A/P: 1.0268),  Trust Delta = 6.294968387670676\n",
      "   -- New Objective = 1685.2114621928195,  Beta Change Norm = 1.1269550592570814,  Gradient Norm = 3.287301937326485E-4\n",
      " \n",
      "-- Outer Iteration 6: Had 8 CG iterations\n",
      "   -- Obj.Reduction:  Actual = 6.516195981021156E-6,  Predicted = 6.508447906043802E-6  (A/P: 1.0012),  Trust Delta = 6.294968387670676\n",
      "   -- New Objective = 1685.2114556766235,  Beta Change Norm = 0.04901868940635522,  Gradient Norm = 2.5535423713404185E-5\n",
      " \n",
      "-- Outer Iteration 7: Had 3 CG iterations\n",
      "   -- Obj.Reduction:  Actual = 1.723492459859699E-10,  Predicted = 1.7246642325496918E-10  (A/P: 0.9993),  Trust Delta = 6.294968387670676\n",
      "   -- New Objective = 1685.2114556764511,  Beta Change Norm = 1.6057883860160956E-5,  Gradient Norm = 6.124327111565665E-7\n",
      "Termination / Convergence condition satisfied.\n",
      "SystemML Statistics:\n",
      "Total execution time:\t\t0.459 sec.\n",
      "Number of executed Spark inst:\t2.\n",
      "\n",
      "\n",
      "BEGIN MULTINOMIAL LOGISTIC REGRESSION SCRIPT\n",
      "Reading X...\n",
      "Reading Y...\n",
      "-- Initially:  Objective = 295.2806989185367,  Gradient Norm = 42091.80179603279,  Trust Delta = 5.596083490104509E-4\n",
      "-- Outer Iteration 1: Had 2 CG iterations, trust bound REACHED\n",
      "   -- Obj.Reduction:  Actual = 10.249833037658902,  Predicted = 10.147301501289528  (A/P: 1.0101),  Trust Delta = 8.211442052282323E-4\n",
      "   -- New Objective = 285.0308658808778,  Beta Change Norm = 5.59608349010451E-4,  Gradient Norm = 11096.954015189225\n",
      " \n",
      "-- Outer Iteration 2: Had 1 CG iterations, trust bound REACHED\n",
      "   -- Obj.Reduction:  Actual = 7.452871497156082,  Predicted = 7.470554471484033  (A/P: 0.9976),  Trust Delta = 0.0022546566615701947\n",
      "   -- New Objective = 277.5779943837217,  Beta Change Norm = 8.211442052282323E-4,  Gradient Norm = 22099.755810856463\n",
      " \n",
      "-- Outer Iteration 3: Had 2 CG iterations, trust bound REACHED\n",
      "   -- Obj.Reduction:  Actual = 22.067110291424086,  Predicted = 21.485835331772453  (A/P: 1.0271),  Trust Delta = 0.008189213527372362\n",
      "   -- New Objective = 255.51088409229763,  Beta Change Norm = 0.0022546566615701947,  Gradient Norm = 8488.292901755016\n",
      " \n",
      "-- Outer Iteration 4: Had 1 CG iterations, trust bound REACHED\n",
      "   -- Obj.Reduction:  Actual = 51.458536879136005,  Predicted = 47.566325045083744  (A/P: 1.0818),  Trust Delta = 0.015765348324994054\n",
      "   -- New Objective = 204.05234721316162,  Beta Change Norm = 0.008189213527372362,  Gradient Norm = 19556.76174236349\n",
      " \n",
      "-- Outer Iteration 5: Had 2 CG iterations, trust bound REACHED\n",
      "   -- Obj.Reduction:  Actual = 53.81886542738002,  Predicted = 43.05359011066534  (A/P: 1.25),  Trust Delta = 0.023397482905471462\n",
      "   -- New Objective = 150.2334817857816,  Beta Change Norm = 0.01576534832499405,  Gradient Norm = 16406.062325040657\n",
      " \n",
      "-- Outer Iteration 6: Had 2 CG iterations, trust bound REACHED\n",
      "   -- Obj.Reduction:  Actual = 39.500852904907205,  Predicted = 32.699885204329945  (A/P: 1.208),  Trust Delta = 0.03488946877902957\n",
      "   -- New Objective = 110.7326288808744,  Beta Change Norm = 0.023397482905471462,  Gradient Norm = 8708.48921675097\n",
      " \n",
      "-- Outer Iteration 7: Had 2 CG iterations\n",
      "   -- Obj.Reduction:  Actual = 21.356791515503843,  Predicted = 17.107480209261606  (A/P: 1.2484),  Trust Delta = 0.03960748402572063\n",
      "   -- New Objective = 89.37583736537056,  Beta Change Norm = 0.02976941742423569,  Gradient Norm = 4264.916458197591\n",
      " \n",
      "-- Outer Iteration 8: Had 1 CG iterations\n",
      "   -- Obj.Reduction:  Actual = 0.27238323415406285,  Predicted = 0.272703213753733  (A/P: 0.9988),  Trust Delta = 0.03960748402572063\n",
      "   -- New Objective = 89.1034541312165,  Beta Change Norm = 1.2788208933357673E-4,  Gradient Norm = 408.7135826653853\n",
      " \n",
      "-- Outer Iteration 9: Had 4 CG iterations, trust bound REACHED\n",
      "   -- Obj.Reduction:  Actual = 8.924371117878266,  Predicted = 7.644657764906495  (A/P: 1.1674),  Trust Delta = 0.05058784795318482\n",
      "   -- New Objective = 80.17908301333823,  Beta Change Norm = 0.03960748402572063,  Gradient Norm = 477.09891089395217\n",
      " \n",
      "-- Outer Iteration 10: Had 3 CG iterations, trust bound REACHED\n",
      "   -- Obj.Reduction:  Actual = 5.149856894422868,  Predicted = 4.711038254774895  (A/P: 1.0931),  Trust Delta = 0.07483036427747695\n",
      "   -- New Objective = 75.02922611891536,  Beta Change Norm = 0.050587847953184814,  Gradient Norm = 206.8209158911807\n",
      " \n",
      "-- Outer Iteration 11: Had 4 CG iterations, trust bound REACHED\n",
      "   -- Obj.Reduction:  Actual = 2.633419386435804,  Predicted = 3.2786695182810153  (A/P: 0.8032),  Trust Delta = 0.07483036427747695\n",
      "   -- New Objective = 72.39580673247956,  Beta Change Norm = 0.07483036427747695,  Gradient Norm = 666.6163497892678\n",
      " \n",
      "-- Outer Iteration 12: Had 3 CG iterations\n",
      "   -- Obj.Reduction:  Actual = 1.7288534658657682,  Predicted = 1.5470324153588868  (A/P: 1.1175),  Trust Delta = 0.07483036427747695\n",
      "   -- New Objective = 70.66695326661379,  Beta Change Norm = 0.01750945107011883,  Gradient Norm = 62.959366511186246\n",
      " \n",
      "-- Outer Iteration 13: Had 4 CG iterations, trust bound REACHED\n",
      "   -- Obj.Reduction:  Actual = 2.2701769306881374,  Predicted = 2.113248463440163  (A/P: 1.0743),  Trust Delta = 0.10134953264491732\n",
      "   -- New Objective = 68.39677633592565,  Beta Change Norm = 0.07483036427747695,  Gradient Norm = 179.9630448603319\n",
      " \n",
      "-- Outer Iteration 14: Had 5 CG iterations, trust bound REACHED\n",
      "   -- Obj.Reduction:  Actual = 3.2820381512525216,  Predicted = 3.334468934879184  (A/P: 0.9843),  Trust Delta = 0.13460732239494896\n",
      "   -- New Objective = 65.11473818467313,  Beta Change Norm = 0.10134953264491732,  Gradient Norm = 286.3747901463125\n",
      " \n",
      "-- Outer Iteration 15: Had 5 CG iterations, trust bound REACHED\n",
      "   -- Obj.Reduction:  Actual = 4.091023646499991,  Predicted = 4.074012261927878  (A/P: 1.0042),  Trust Delta = 0.23492206821373537\n",
      "   -- New Objective = 61.02371453817314,  Beta Change Norm = 0.13460732239494896,  Gradient Norm = 284.42569961646757\n",
      " \n",
      "-- Outer Iteration 16: Had 5 CG iterations, trust bound REACHED\n",
      "   -- Obj.Reduction:  Actual = 4.978314835984314,  Predicted = 4.935278000456844  (A/P: 1.0087),  Trust Delta = 0.4582302420939621\n",
      "   -- New Objective = 56.045399702188824,  Beta Change Norm = 0.23492206821373535,  Gradient Norm = 63.20069575854747\n",
      " \n",
      "-- Outer Iteration 17: Had 5 CG iterations, trust bound REACHED\n",
      "   -- Obj.Reduction:  Actual = 5.136548990765405,  Predicted = 4.65210821700577  (A/P: 1.1041),  Trust Delta = 0.6376239623382005\n",
      "   -- New Objective = 50.90885071142342,  Beta Change Norm = 0.4582302420939621,  Gradient Norm = 468.6327778934476\n",
      " \n",
      "-- Outer Iteration 18: Had 1 CG iterations\n",
      "   -- Obj.Reduction:  Actual = 0.0070584751167146464,  Predicted = 0.00705124051865866  (A/P: 1.001),  Trust Delta = 0.6376239623382005\n",
      "   -- New Objective = 50.901792236306704,  Beta Change Norm = 3.009281830585863E-5,  Gradient Norm = 29.80334857492735\n",
      " \n",
      "-- Outer Iteration 19: Had 7 CG iterations, trust bound REACHED\n",
      "   -- Obj.Reduction:  Actual = 5.30745540585756,  Predicted = 5.3152430426371176  (A/P: 0.9985),  Trust Delta = 1.709159139673951\n",
      "   -- New Objective = 45.594336830449144,  Beta Change Norm = 0.6376239623382005,  Gradient Norm = 78.98531576832903\n",
      " \n",
      "-- Outer Iteration 20: Had 7 CG iterations\n",
      "   -- Obj.Reduction:  Actual = 6.47453872967359,  Predicted = 5.927721247502217  (A/P: 1.0922),  Trust Delta = 1.8453725244651495\n",
      "   -- New Objective = 39.119798100775554,  Beta Change Norm = 1.6751415174097426,  Gradient Norm = 25.829288091304267\n",
      " \n",
      "-- Outer Iteration 21: Had 5 CG iterations\n",
      "   -- Obj.Reduction:  Actual = 0.06443211176927122,  Predicted = 0.0625996125546611  (A/P: 1.0293),  Trust Delta = 1.8453725244651495\n",
      "   -- New Objective = 39.05536598900628,  Beta Change Norm = 0.012576917158503636,  Gradient Norm = 2.959191679936436\n",
      " \n",
      "-- Outer Iteration 22: Had 14 CG iterations, trust bound REACHED\n",
      "   -- Obj.Reduction:  Actual = 1.1114534056480991,  Predicted = 1.102246323422477  (A/P: 1.0084),  Trust Delta = 2.2196956404793102\n",
      "   -- New Objective = 37.943912583358184,  Beta Change Norm = 1.8453725244651495,  Gradient Norm = 162.0402137837253\n",
      " \n",
      "-- Outer Iteration 23: Had 1 CG iterations\n",
      "   -- Obj.Reduction:  Actual = 9.981379286756464E-4,  Predicted = 9.980025193824951E-4  (A/P: 1.0001),  Trust Delta = 2.2196956404793102\n",
      "   -- New Objective = 37.94291444542951,  Beta Change Norm = 1.2317961030519586E-5,  Gradient Norm = 2.0215185998999536\n",
      " \n",
      "-- Outer Iteration 24: Had 12 CG iterations, trust bound REACHED\n",
      "   -- Obj.Reduction:  Actual = 0.5826517747240558,  Predicted = 0.5837617265793443  (A/P: 0.9981),  Trust Delta = 2.4261604799707794\n",
      "   -- New Objective = 37.36026267070545,  Beta Change Norm = 2.2196956404793102,  Gradient Norm = 30.854764342899575\n",
      " \n",
      "-- Outer Iteration 25: Had 2 CG iterations\n",
      "   -- Obj.Reduction:  Actual = 0.0018588083082207163,  Predicted = 0.0018583501654152084  (A/P: 1.0002),  Trust Delta = 2.4261604799707794\n",
      "   -- New Objective = 37.35840386239723,  Beta Change Norm = 4.029048219710339E-4,  Gradient Norm = 1.338577957246403\n",
      " \n",
      "-- Outer Iteration 26: Had 13 CG iterations, trust bound REACHED\n",
      "   -- Obj.Reduction:  Actual = 0.9469284309495407,  Predicted = 0.9440968537297679  (A/P: 1.003),  Trust Delta = 3.437190872857622\n",
      "   -- New Objective = 36.41147543144769,  Beta Change Norm = 2.4261604799707794,  Gradient Norm = 10.778601098212722\n",
      " \n",
      "-- Outer Iteration 27: Had 3 CG iterations\n",
      "   -- Obj.Reduction:  Actual = 0.005769609240601881,  Predicted = 0.005725178112242765  (A/P: 1.0078),  Trust Delta = 3.437190872857622\n",
      "   -- New Objective = 36.40570582220709,  Beta Change Norm = 0.0015706504398050225,  Gradient Norm = 0.7882445549459514\n",
      " \n",
      "-- Outer Iteration 28: Had 14 CG iterations, trust bound REACHED\n",
      "   -- Obj.Reduction:  Actual = 0.8943054777390316,  Predicted = 0.891735282715082  (A/P: 1.0029),  Trust Delta = 4.751587540241967\n",
      "   -- New Objective = 35.51140034446806,  Beta Change Norm = 3.437190872857622,  Gradient Norm = 1698.543050440512\n",
      " \n",
      "-- Outer Iteration 29: Had 1 CG iterations\n",
      "   -- Obj.Reduction:  Actual = 0.10931503615445592,  Predicted = 0.10911504445840031  (A/P: 1.0018),  Trust Delta = 4.751587540241967\n",
      "   -- New Objective = 35.4020853083136,  Beta Change Norm = 1.2848075228955976E-4,  Gradient Norm = 4.880690974207164\n",
      " \n",
      "-- Outer Iteration 30: Had 13 CG iterations, trust bound REACHED\n",
      "   -- Obj.Reduction:  Actual = 1.243846057238727,  Predicted = 1.2408071370405303  (A/P: 1.0024),  Trust Delta = 9.040132765624538\n",
      "   -- New Objective = 34.158239251074875,  Beta Change Norm = 4.751587540241968,  Gradient Norm = 628.9777407596769\n",
      " \n",
      "-- Outer Iteration 31: Had 1 CG iterations\n",
      "   -- Obj.Reduction:  Actual = 0.014972739046399397,  Predicted = 0.014982273266287033  (A/P: 0.9994),  Trust Delta = 9.040132765624538\n",
      "   -- New Objective = 34.143266512028475,  Beta Change Norm = 4.764007466525445E-5,  Gradient Norm = 13.94780368952655\n",
      " \n",
      "-- Outer Iteration 32: Had 3 CG iterations\n",
      "   -- Obj.Reduction:  Actual = 0.021151061344127697,  Predicted = 0.020870434007568738  (A/P: 1.0134),  Trust Delta = 9.040132765624538\n",
      "   -- New Objective = 34.12211545068435,  Beta Change Norm = 0.0030101312040952317,  Gradient Norm = 1.6251723362795345\n",
      " \n",
      "-- Outer Iteration 33: Had 16 CG iterations, trust bound REACHED\n",
      "   -- Obj.Reduction:  Actual = 1.3301218455096233,  Predicted = 1.2692793174503874  (A/P: 1.0479),  Trust Delta = 10.657191240440385\n",
      "   -- New Objective = 32.791993605174724,  Beta Change Norm = 9.040132765624538,  Gradient Norm = 37.96763512767064\n",
      " \n",
      "-- Outer Iteration 34: Had 4 CG iterations\n",
      "   -- Obj.Reduction:  Actual = 0.1857654503590922,  Predicted = 0.18676903234505102  (A/P: 0.9946),  Trust Delta = 10.657191240440385\n",
      "   -- New Objective = 32.60622815481563,  Beta Change Norm = 0.012919610711481934,  Gradient Norm = 31.345381460060356\n",
      " \n",
      "-- Outer Iteration 35: Had 2 CG iterations\n",
      "   -- Obj.Reduction:  Actual = 5.062671317972445E-4,  Predicted = 5.058612691542922E-4  (A/P: 1.0008),  Trust Delta = 10.657191240440385\n",
      "   -- New Objective = 32.605721887683835,  Beta Change Norm = 2.351337221388247E-4,  Gradient Norm = 1.9787343241508915\n",
      " \n",
      "-- Outer Iteration 36: Had 12 CG iterations\n",
      "   -- Obj.Reduction:  Actual = 0.2810820245706793,  Predicted = 0.2804935338572504  (A/P: 1.0021),  Trust Delta = 10.657191240440385\n",
      "   -- New Objective = 32.324639863113156,  Beta Change Norm = 0.7014148640315804,  Gradient Norm = 3.660805740890399\n",
      " \n",
      "-- Outer Iteration 37: Had 3 CG iterations\n",
      "   -- Obj.Reduction:  Actual = 3.7513976302250285E-5,  Predicted = 3.7495424320792234E-5  (A/P: 1.0005),  Trust Delta = 10.657191240440385\n",
      "   -- New Objective = 32.32460234913685,  Beta Change Norm = 1.4998920653964674E-4,  Gradient Norm = 0.2310233954541559\n",
      " \n",
      "-- Outer Iteration 38: Had 13 CG iterations, trust bound REACHED\n",
      "   -- Obj.Reduction:  Actual = 0.8271605821897836,  Predicted = 0.8007133901083916  (A/P: 1.033),  Trust Delta = 11.568796671623682\n",
      "   -- New Objective = 31.49744176694707,  Beta Change Norm = 10.657191240440385,  Gradient Norm = 24.81392097699324\n",
      " \n",
      "-- Outer Iteration 39: Had 3 CG iterations\n",
      "   -- Obj.Reduction:  Actual = 0.0097717807676716,  Predicted = 0.009693369730775746  (A/P: 1.0081),  Trust Delta = 11.568796671623682\n",
      "   -- New Objective = 31.487669986179398,  Beta Change Norm = 0.0022165486147762313,  Gradient Norm = 1.0183653783173992\n",
      " \n",
      "-- Outer Iteration 40: Had 12 CG iterations\n",
      "   -- Obj.Reduction:  Actual = 0.20376802542536154,  Predicted = 0.2029541925987388  (A/P: 1.004),  Trust Delta = 11.568796671623682\n",
      "   -- New Objective = 31.283901960754037,  Beta Change Norm = 0.5867407158296661,  Gradient Norm = 0.8261365984268848\n",
      " \n",
      "-- Outer Iteration 41: Had 18 CG iterations\n",
      "   -- Obj.Reduction:  Actual = 0.21455418530325687,  Predicted = 0.20402323826249383  (A/P: 1.0516),  Trust Delta = 11.568796671623682\n",
      "   -- New Objective = 31.06934777545078,  Beta Change Norm = 7.462959781040127,  Gradient Norm = 13.055868234373778\n",
      " \n",
      "-- Outer Iteration 42: Had 1 CG iterations\n",
      "   -- Obj.Reduction:  Actual = 7.510136349253571E-6,  Predicted = 7.510195680239753E-6  (A/P: 1.0),  Trust Delta = 11.568796671623682\n",
      "   -- New Objective = 31.06934026531443,  Beta Change Norm = 1.1504705080381773E-6,  Gradient Norm = 1.211807109427121\n",
      " \n",
      "-- Outer Iteration 43: Had 4 CG iterations\n",
      "   -- Obj.Reduction:  Actual = 1.796809853651382E-4,  Predicted = 1.7946921327559589E-4  (A/P: 1.0012),  Trust Delta = 11.568796671623682\n",
      "   -- New Objective = 31.069160584329065,  Beta Change Norm = 3.38970549631786E-4,  Gradient Norm = 0.09044814232547431\n",
      " \n",
      "-- Outer Iteration 44: Had 10 CG iterations\n",
      "   -- Obj.Reduction:  Actual = 5.908572256849709E-4,  Predicted = 5.897084824600129E-4  (A/P: 1.0019),  Trust Delta = 11.568796671623682\n",
      "   -- New Objective = 31.06856972710338,  Beta Change Norm = 0.02404455022459186,  Gradient Norm = 0.04415363040957711\n",
      " \n",
      "-- Outer Iteration 45: Had 20 CG iterations\n",
      "   -- Obj.Reduction:  Actual = 0.0015684579541321853,  Predicted = 0.0015603389788105579  (A/P: 1.0052),  Trust Delta = 11.568796671623682\n",
      "   -- New Objective = 31.067001269149248,  Beta Change Norm = 0.7089551413195361,  Gradient Norm = 0.12916419754189526\n",
      " \n",
      "-- Outer Iteration 46: Had 1 CG iterations\n",
      "   -- Obj.Reduction:  Actual = 7.385914102542301E-10,  Predicted = 7.38595386654232E-10  (A/P: 1.0),  Trust Delta = 11.568796671623682\n",
      "   -- New Objective = 31.067001268410657,  Beta Change Norm = 1.1436534282879182E-8,  Gradient Norm = 0.00865680987224127\n",
      "Termination / Convergence condition satisfied.\n",
      "SystemML Statistics:\n",
      "Total execution time:\t\t0.846 sec.\n",
      "Number of executed Spark inst:\t2.\n",
      "\n",
      "\n"
     ]
    },
    {
     "data": {
      "text/plain": [
       "logReg"
      ]
     },
     "execution_count": 35,
     "metadata": {},
     "output_type": "execute_result"
    }
   ],
   "source": [
    "lg1.fit(x_train1,y_train1)\n",
    "lg2.fit(x_train2,y_train2)\n",
    "lg3.fit(x_train3,y_train3)"
   ]
  },
  {
   "cell_type": "code",
   "execution_count": 37,
   "metadata": {},
   "outputs": [
    {
     "name": "stdout",
     "output_type": "stream",
     "text": [
      "SystemML Statistics:\n",
      "Total execution time:\t\t0.002 sec.\n",
      "Number of executed Spark inst:\t0.\n",
      "\n",
      "\n",
      "0.9473684210526315\n"
     ]
    },
    {
     "name": "stderr",
     "output_type": "stream",
     "text": [
      "/home/spark/shared/user-libs/python3/sklearn/preprocessing/label.py:273: DataConversionWarning: A column-vector y was passed when a 1d array was expected. Please change the shape of y to (n_samples, ), for example using ravel().\n",
      "  y = column_or_1d(y, warn=True)\n"
     ]
    },
    {
     "name": "stdout",
     "output_type": "stream",
     "text": [
      "SystemML Statistics:\n",
      "Total execution time:\t\t0.006 sec.\n",
      "Number of executed Spark inst:\t0.\n",
      "\n",
      "\n",
      "0.009009009009009009\n",
      "SystemML Statistics:\n",
      "Total execution time:\t\t0.013 sec.\n",
      "Number of executed Spark inst:\t0.\n",
      "\n",
      "\n",
      "0.9230769230769231\n"
     ]
    }
   ],
   "source": [
    "print(lg1.score(x_test1,y_test1))\n",
    "print(lg2.score(x_test2,y_test2))\n",
    "print(lg3.score(x_test3,y_test3))"
   ]
  },
  {
   "cell_type": "code",
   "execution_count": 38,
   "metadata": {},
   "outputs": [],
   "source": [
    "from systemml.mllearn import LinearRegression"
   ]
  },
  {
   "cell_type": "code",
   "execution_count": 39,
   "metadata": {},
   "outputs": [],
   "source": [
    "lr = LinearRegression(spark)"
   ]
  },
  {
   "cell_type": "code",
   "execution_count": 40,
   "metadata": {},
   "outputs": [
    {
     "name": "stdout",
     "output_type": "stream",
     "text": [
      "BEGIN LINEAR REGRESSION SCRIPT\n",
      "Reading X and Y...\n",
      "Running the CG algorithm...\n",
      "||r|| initial value = 50348.06450391691,  target value = 0.050348064503916906\n",
      "Iteration 1:  ||r|| / ||r init|| = 0.028676172087648947\n",
      "Iteration 2:  ||r|| / ||r init|| = 0.008850106559744941\n",
      "Iteration 3:  ||r|| / ||r init|| = 0.001989489952876567\n",
      "Iteration 4:  ||r|| / ||r init|| = 6.114165574221006E-4\n",
      "Iteration 5:  ||r|| / ||r init|| = 2.503233878293402E-4\n",
      "Iteration 6:  ||r|| / ||r init|| = 6.786975406211641E-4\n",
      "Iteration 7:  ||r|| / ||r init|| = 2.0259996770423416E-4\n",
      "Iteration 8:  ||r|| / ||r init|| = 2.9813964155295545E-4\n",
      "Iteration 9:  ||r|| / ||r init|| = 1.758927170108185E-4\n",
      "Iteration 10:  ||r|| / ||r init|| = 2.9820012855746235E-4\n",
      "Iteration 11:  ||r|| / ||r init|| = 1.433384562834574E-4\n",
      "Iteration 12:  ||r|| / ||r init|| = 0.0011149405246487934\n",
      "Iteration 13:  ||r|| / ||r init|| = 2.336296823795273E-9\n",
      "The CG algorithm is done.\n",
      "Computing the statistics...\n",
      "AVG_TOT_Y,152.04833836858006\n",
      "STDEV_TOT_Y,76.58991995125537\n",
      "AVG_RES_Y,2.4089047373146743E-10\n",
      "STDEV_RES_Y,53.944698340247314\n",
      "DISPERSION,2910.0304790202813\n",
      "R2,0.5189498605024764\n",
      "ADJUSTED_R2,0.5039170436431788\n",
      "R2_NOBIAS,0.5189498605024764\n",
      "ADJUSTED_R2_NOBIAS,0.5039170436431788\n",
      "Writing the output matrix...\n",
      "END LINEAR REGRESSION SCRIPT\n",
      "SystemML Statistics:\n",
      "Total execution time:\t\t0.004 sec.\n",
      "Number of executed Spark inst:\t2.\n",
      "\n",
      "\n"
     ]
    },
    {
     "data": {
      "text/plain": [
       "lr"
      ]
     },
     "execution_count": 40,
     "metadata": {},
     "output_type": "execute_result"
    }
   ],
   "source": [
    "lr.fit(x_train2,y_train2)"
   ]
  },
  {
   "cell_type": "code",
   "execution_count": 41,
   "metadata": {},
   "outputs": [
    {
     "name": "stdout",
     "output_type": "stream",
     "text": [
      "SystemML Statistics:\n",
      "Total execution time:\t\t0.002 sec.\n",
      "Number of executed Spark inst:\t1.\n",
      "\n",
      "\n"
     ]
    },
    {
     "data": {
      "text/plain": [
       "0.4822592593686483"
      ]
     },
     "execution_count": 41,
     "metadata": {},
     "output_type": "execute_result"
    }
   ],
   "source": [
    "lr.score(x_test2,y_test2)"
   ]
  },
  {
   "cell_type": "code",
   "execution_count": 42,
   "metadata": {},
   "outputs": [
    {
     "name": "stdout",
     "output_type": "stream",
     "text": [
      "SystemML Statistics:\n",
      "Total execution time:\t\t0.001 sec.\n",
      "Number of executed Spark inst:\t1.\n",
      "\n",
      "\n"
     ]
    },
    {
     "data": {
      "text/plain": [
       "array([[182.73192417],\n",
       "       [115.94204766],\n",
       "       [183.72421352],\n",
       "       [107.48003533],\n",
       "       [243.61546763],\n",
       "       [119.36631011],\n",
       "       [143.23358594],\n",
       "       [150.20706972],\n",
       "       [154.34240078],\n",
       "       [255.9584285 ],\n",
       "       [185.16659326],\n",
       "       [ 62.05700685],\n",
       "       [214.062156  ],\n",
       "       [ 63.03470026],\n",
       "       [123.41224294],\n",
       "       [ 75.62859535],\n",
       "       [233.70928108],\n",
       "       [115.85962402],\n",
       "       [118.12079067],\n",
       "       [210.2954359 ],\n",
       "       [244.03445906],\n",
       "       [169.60826249],\n",
       "       [240.55810476],\n",
       "       [216.76112245],\n",
       "       [ 81.39243794],\n",
       "       [240.62070047],\n",
       "       [144.44865442],\n",
       "       [138.77209135],\n",
       "       [ 70.64468403],\n",
       "       [169.09278868],\n",
       "       [181.56253836],\n",
       "       [163.72070194],\n",
       "       [ 58.34576658],\n",
       "       [158.57310425],\n",
       "       [ 92.46505329],\n",
       "       [218.43486614],\n",
       "       [105.34734135],\n",
       "       [105.72227104],\n",
       "       [101.53148952],\n",
       "       [120.96660805],\n",
       "       [171.96101047],\n",
       "       [114.95142284],\n",
       "       [102.28215303],\n",
       "       [232.12200717],\n",
       "       [222.53223924],\n",
       "       [175.32585479],\n",
       "       [ 86.37541847],\n",
       "       [103.60700506],\n",
       "       [161.44064727],\n",
       "       [106.51416748],\n",
       "       [202.41622724],\n",
       "       [187.94156027],\n",
       "       [109.2759326 ],\n",
       "       [202.28447275],\n",
       "       [ 92.2919241 ],\n",
       "       [178.03149652],\n",
       "       [128.10789049],\n",
       "       [235.37452319],\n",
       "       [244.18568687],\n",
       "       [233.2310852 ],\n",
       "       [150.63430873],\n",
       "       [250.65840157],\n",
       "       [129.26958146],\n",
       "       [201.51293347],\n",
       "       [183.22212725],\n",
       "       [108.1070138 ],\n",
       "       [148.23376165],\n",
       "       [ 96.66851158],\n",
       "       [192.40724014],\n",
       "       [151.65743253],\n",
       "       [293.11010761],\n",
       "       [124.11029221],\n",
       "       [195.1633338 ],\n",
       "       [141.93457113],\n",
       "       [197.04061993],\n",
       "       [186.65260825],\n",
       "       [181.25049774],\n",
       "       [131.34727248],\n",
       "       [161.42892979],\n",
       "       [ 70.73489594],\n",
       "       [227.64938191],\n",
       "       [242.36672005],\n",
       "       [210.57563571],\n",
       "       [154.75227402],\n",
       "       [110.94383665],\n",
       "       [ 94.62590426],\n",
       "       [ 66.11484915],\n",
       "       [ 78.26273935],\n",
       "       [197.23429891],\n",
       "       [181.6166759 ],\n",
       "       [176.8977438 ],\n",
       "       [137.02588587],\n",
       "       [ 49.39833327],\n",
       "       [ 63.79257603],\n",
       "       [106.40608185],\n",
       "       [ 89.34113176],\n",
       "       [188.61418948],\n",
       "       [112.81387595],\n",
       "       [115.89496228],\n",
       "       [209.36804973],\n",
       "       [104.65844209],\n",
       "       [171.01973534],\n",
       "       [117.52495961],\n",
       "       [178.98863369],\n",
       "       [ 57.30064354],\n",
       "       [ 54.56335233],\n",
       "       [161.38059049],\n",
       "       [150.9929917 ],\n",
       "       [249.19045655],\n",
       "       [ 92.30846953],\n",
       "       [133.015616  ]])"
      ]
     },
     "execution_count": 42,
     "metadata": {},
     "output_type": "execute_result"
    }
   ],
   "source": [
    "lr.predict(x_test2)"
   ]
  },
  {
   "cell_type": "code",
   "execution_count": 43,
   "metadata": {},
   "outputs": [],
   "source": [
    "from systemml.mllearn import LogisticRegression"
   ]
  },
  {
   "cell_type": "code",
   "execution_count": 44,
   "metadata": {},
   "outputs": [],
   "source": [
    "from mlxtend.data import mnist_data\n",
    "import numpy as np\n",
    "from sklearn.utils import shuffle\n",
    "from keras.models import Sequential\n",
    "from keras.layers import Input, Dense\n",
    "from keras import backend as K\n",
    "from keras.models import Model\n",
    "from keras.optimizers import SGD\n",
    "# Set channel first layer\n",
    "K.set_image_data_format('channels_first')\n",
    "\n",
    "# Download the MNIST dataset\n",
    "X, y = mnist_data()\n",
    "X, y = shuffle(X, y)\n",
    "\n",
    "# Split the data into training and test\n",
    "n_samples = len(X)\n",
    "X_train = X[:int(.9 * n_samples)]\n",
    "y_train = y[:int(.9 * n_samples)]\n",
    "X_test = X[int(.9 * n_samples):]\n",
    "y_test = y[int(.9 * n_samples):]\n"
   ]
  },
  {
   "cell_type": "code",
   "execution_count": 45,
   "metadata": {},
   "outputs": [],
   "source": [
    "lrg = LogisticRegression(spark)"
   ]
  },
  {
   "cell_type": "code",
   "execution_count": 46,
   "metadata": {},
   "outputs": [
    {
     "name": "stdout",
     "output_type": "stream",
     "text": [
      "BEGIN MULTINOMIAL LOGISTIC REGRESSION SCRIPT\n",
      "Reading X...\n",
      "Reading Y...\n",
      "-- Initially:  Objective = 10361.632918473206,  Gradient Norm = 1180020.7227323812,  Trust Delta = 0.003686263414710899\n",
      "-- Outer Iteration 1: Had 1 CG iterations, trust bound REACHED\n",
      "   -- Obj.Reduction:  Actual = 3129.094244254142,  Predicted = 3188.4361073892605  (A/P: 0.9814),  Trust Delta = 0.0065674604212924695\n",
      "   -- New Objective = 7232.538674219064,  Beta Change Norm = 0.003686263414710899,  Gradient Norm = 1084586.827637466\n",
      " \n",
      "-- Outer Iteration 2: Had 3 CG iterations, trust bound REACHED\n",
      "   -- Obj.Reduction:  Actual = 2754.310603623927,  Predicted = 3021.662667321488  (A/P: 0.9115),  Trust Delta = 0.0065674604212924695\n",
      "   -- New Objective = 4478.228070595137,  Beta Change Norm = 0.0065674604212924695,  Gradient Norm = 939384.0898473396\n",
      " \n",
      "-- Outer Iteration 3: Had 3 CG iterations, trust bound REACHED\n",
      "   -- Obj.Reduction:  Actual = 1619.4077604714357,  Predicted = 1468.6050241949647  (A/P: 1.1027),  Trust Delta = 0.008252172108784893\n",
      "   -- New Objective = 2858.8203101237013,  Beta Change Norm = 0.0065674604212924695,  Gradient Norm = 316869.2962693638\n",
      " \n",
      "-- Outer Iteration 4: Had 6 CG iterations, trust bound REACHED\n",
      "   -- Obj.Reduction:  Actual = 917.7333289171922,  Predicted = 743.5961377680147  (A/P: 1.2342),  Trust Delta = 0.011370110681626402\n",
      "   -- New Objective = 1941.086981206509,  Beta Change Norm = 0.008252172108784893,  Gradient Norm = 167353.25406796686\n",
      " \n",
      "-- Outer Iteration 5: Had 6 CG iterations, trust bound REACHED\n",
      "   -- Obj.Reduction:  Actual = 525.716421437711,  Predicted = 421.7940306529814  (A/P: 1.2464),  Trust Delta = 0.015538738159092083\n",
      "   -- New Objective = 1415.370559768798,  Beta Change Norm = 0.011370110681626402,  Gradient Norm = 72391.62193997277\n",
      " \n",
      "-- Outer Iteration 6: Had 7 CG iterations, trust bound REACHED\n",
      "   -- Obj.Reduction:  Actual = 326.4172455557566,  Predicted = 288.23428669982405  (A/P: 1.1325),  Trust Delta = 0.0203234226055465\n",
      "   -- New Objective = 1088.9533142130415,  Beta Change Norm = 0.015538738159092083,  Gradient Norm = 55230.55699653567\n",
      " \n",
      "-- Outer Iteration 7: Had 9 CG iterations, trust bound REACHED\n",
      "   -- Obj.Reduction:  Actual = 260.83495998306535,  Predicted = 231.3439549115281  (A/P: 1.1275),  Trust Delta = 0.02651835817190291\n",
      "   -- New Objective = 828.1183542299761,  Beta Change Norm = 0.0203234226055465,  Gradient Norm = 36663.400715170756\n",
      " \n",
      "-- Outer Iteration 8: Had 12 CG iterations, trust bound REACHED\n",
      "   -- Obj.Reduction:  Actual = 200.53609366483533,  Predicted = 186.6387613226233  (A/P: 1.0745),  Trust Delta = 0.02973877610462451\n",
      "   -- New Objective = 627.5822605651408,  Beta Change Norm = 0.02651835817190291,  Gradient Norm = 34208.044156803764\n",
      " \n",
      "-- Outer Iteration 9: Had 14 CG iterations, trust bound REACHED\n",
      "   -- Obj.Reduction:  Actual = 179.72639619548937,  Predicted = 164.7174356952881  (A/P: 1.0911),  Trust Delta = 0.035270569430778526\n",
      "   -- New Objective = 447.85586436965144,  Beta Change Norm = 0.02973877610462451,  Gradient Norm = 19764.335965706807\n",
      " \n",
      "-- Outer Iteration 10: Had 15 CG iterations, trust bound REACHED\n",
      "   -- Obj.Reduction:  Actual = 146.9741487655008,  Predicted = 128.8380796821186  (A/P: 1.1408),  Trust Delta = 0.04381247749806667\n",
      "   -- New Objective = 300.88171560415066,  Beta Change Norm = 0.03527056943077852,  Gradient Norm = 13747.543116869829\n",
      " \n",
      "-- Outer Iteration 11: Had 16 CG iterations, trust bound REACHED\n",
      "   -- Obj.Reduction:  Actual = 115.23629726187144,  Predicted = 101.95800308827525  (A/P: 1.1302),  Trust Delta = 0.051676194916808194\n",
      "   -- New Objective = 185.6454183422792,  Beta Change Norm = 0.04381247749806667,  Gradient Norm = 11301.485503257198\n",
      " \n",
      "-- Outer Iteration 12: Had 21 CG iterations, trust bound REACHED\n",
      "   -- Obj.Reduction:  Actual = 86.73825492982144,  Predicted = 73.67032546431028  (A/P: 1.1774),  Trust Delta = 0.06306832722861329\n",
      "   -- New Objective = 98.90716341245778,  Beta Change Norm = 0.051676194916808194,  Gradient Norm = 6042.948191980467\n",
      " \n",
      "-- Outer Iteration 13: Had 25 CG iterations, trust bound REACHED\n",
      "   -- Obj.Reduction:  Actual = 54.94277730392353,  Predicted = 45.24875045154989  (A/P: 1.2142),  Trust Delta = 0.08074698061609174\n",
      "   -- New Objective = 43.96438610853425,  Beta Change Norm = 0.06306832722861329,  Gradient Norm = 3399.728661935461\n",
      " \n",
      "-- Outer Iteration 14: Had 39 CG iterations\n",
      "   -- Obj.Reduction:  Actual = 28.123369012257495,  Predicted = 22.753257387236932  (A/P: 1.236),  Trust Delta = 0.10012576823350439\n",
      "   -- New Objective = 15.841017096276754,  Beta Change Norm = 0.07649441724102068,  Gradient Norm = 1055.438764405071\n",
      " \n",
      "-- Outer Iteration 15: Had 40 CG iterations\n",
      "   -- Obj.Reduction:  Actual = 9.816365200263215,  Predicted = 7.780028437377212  (A/P: 1.2617),  Trust Delta = 0.10126516850241066\n",
      "   -- New Objective = 6.024651896013539,  Beta Change Norm = 0.07475807193126281,  Gradient Norm = 394.4357020396835\n",
      " \n",
      "-- Outer Iteration 16: Had 39 CG iterations\n",
      "   -- Obj.Reduction:  Actual = 3.6814701701645114,  Predicted = 2.913384843305072  (A/P: 1.2636),  Trust Delta = 0.1021637298061663\n",
      "   -- New Objective = 2.343181725849028,  Beta Change Norm = 0.07523043577449828,  Gradient Norm = 145.76069903595769\n",
      " \n",
      "-- Outer Iteration 17: Had 36 CG iterations\n",
      "   -- Obj.Reduction:  Actual = 1.3389601342460768,  Predicted = 1.062074120404168  (A/P: 1.2607),  Trust Delta = 0.1021637298061663\n",
      "   -- New Objective = 1.004221591602951,  Beta Change Norm = 0.07426962157167372,  Gradient Norm = 53.949702422487\n",
      " \n",
      "-- Outer Iteration 18: Had 37 CG iterations\n",
      "   -- Obj.Reduction:  Actual = 0.4681897484821027,  Predicted = 0.37410110458146784  (A/P: 1.2515),  Trust Delta = 0.1021637298061663\n",
      "   -- New Objective = 0.5360318431208484,  Beta Change Norm = 0.07126904914343818,  Gradient Norm = 19.631446434355095\n",
      " \n",
      "-- Outer Iteration 19: Had 35 CG iterations\n",
      "   -- Obj.Reduction:  Actual = 0.1447727527536281,  Predicted = 0.11786009877800718  (A/P: 1.2283),  Trust Delta = 0.1021637298061663\n",
      "   -- New Objective = 0.3912590903672203,  Beta Change Norm = 0.06237940222641151,  Gradient Norm = 7.1447838992879875\n",
      " \n",
      "-- Outer Iteration 20: Had 34 CG iterations\n",
      "   -- Obj.Reduction:  Actual = 0.03352379085875706,  Predicted = 0.028364777416785454  (A/P: 1.1819),  Trust Delta = 0.1021637298061663\n",
      "   -- New Objective = 0.3577352995084632,  Beta Change Norm = 0.04352769034974368,  Gradient Norm = 2.427420489577423\n",
      " \n",
      "-- Outer Iteration 21: Had 36 CG iterations\n",
      "   -- Obj.Reduction:  Actual = 0.004672318059860514,  Predicted = 0.004158819345665573  (A/P: 1.1235),  Trust Delta = 0.1021637298061663\n",
      "   -- New Objective = 0.3530629814486027,  Beta Change Norm = 0.020234749950494187,  Gradient Norm = 0.6136126065995524\n",
      "Termination / Convergence condition satisfied.\n",
      "SystemML Statistics:\n",
      "Total execution time:\t\t5.649 sec.\n",
      "Number of executed Spark inst:\t2.\n",
      "\n",
      "\n"
     ]
    },
    {
     "data": {
      "text/plain": [
       "logReg"
      ]
     },
     "execution_count": 46,
     "metadata": {},
     "output_type": "execute_result"
    }
   ],
   "source": [
    "lrg.fit(X_train,y_train)"
   ]
  },
  {
   "cell_type": "code",
   "execution_count": 49,
   "metadata": {},
   "outputs": [
    {
     "name": "stdout",
     "output_type": "stream",
     "text": [
      "SystemML Statistics:\n",
      "Total execution time:\t\t0.003 sec.\n",
      "Number of executed Spark inst:\t0.\n",
      "\n",
      "\n"
     ]
    },
    {
     "name": "stderr",
     "output_type": "stream",
     "text": [
      "/home/spark/shared/user-libs/python3/sklearn/preprocessing/label.py:273: DataConversionWarning: A column-vector y was passed when a 1d array was expected. Please change the shape of y to (n_samples, ), for example using ravel().\n",
      "  y = column_or_1d(y, warn=True)\n"
     ]
    }
   ],
   "source": [
    "prediction = lrg.predict(X_test)"
   ]
  },
  {
   "cell_type": "code",
   "execution_count": 50,
   "metadata": {},
   "outputs": [],
   "source": [
    "accuracy = (sum(prediction==y_test)/len(y_test))*100"
   ]
  },
  {
   "cell_type": "code",
   "execution_count": 51,
   "metadata": {},
   "outputs": [
    {
     "data": {
      "text/plain": [
       "86.2"
      ]
     },
     "execution_count": 51,
     "metadata": {},
     "output_type": "execute_result"
    }
   ],
   "source": [
    "accuracy"
   ]
  },
  {
   "cell_type": "code",
   "execution_count": 52,
   "metadata": {},
   "outputs": [],
   "source": [
    "## Kaffe to dml work on the local env"
   ]
  },
  {
   "cell_type": "code",
   "execution_count": null,
   "metadata": {},
   "outputs": [],
   "source": []
  }
 ],
 "metadata": {
  "kernelspec": {
   "display_name": "Python 3.6 with Spark",
   "language": "python3",
   "name": "python36"
  },
  "language_info": {
   "codemirror_mode": {
    "name": "ipython",
    "version": 3
   },
   "file_extension": ".py",
   "mimetype": "text/x-python",
   "name": "python",
   "nbconvert_exporter": "python",
   "pygments_lexer": "ipython3",
   "version": "3.6.8"
  }
 },
 "nbformat": 4,
 "nbformat_minor": 1
}
